{
 "cells": [
  {
   "cell_type": "code",
   "execution_count": 1,
   "metadata": {},
   "outputs": [],
   "source": [
    "import numpy as np\n",
    "import pandas as pd\n",
    "import matplotlib.pyplot as plt\n",
    "import seaborn as sns\n",
    "\n",
    "import warnings\n",
    "warnings.filterwarnings(\"ignore\")"
   ]
  },
  {
   "cell_type": "code",
   "execution_count": 2,
   "metadata": {},
   "outputs": [],
   "source": [
    "from sklearn.model_selection import train_test_split\n",
    "from sklearn.preprocessing import StandardScaler\n"
   ]
  },
  {
   "cell_type": "code",
   "execution_count": 3,
   "metadata": {},
   "outputs": [
    {
     "data": {
      "text/html": [
       "<div>\n",
       "<style scoped>\n",
       "    .dataframe tbody tr th:only-of-type {\n",
       "        vertical-align: middle;\n",
       "    }\n",
       "\n",
       "    .dataframe tbody tr th {\n",
       "        vertical-align: top;\n",
       "    }\n",
       "\n",
       "    .dataframe thead th {\n",
       "        text-align: right;\n",
       "    }\n",
       "</style>\n",
       "<table border=\"1\" class=\"dataframe\">\n",
       "  <thead>\n",
       "    <tr style=\"text-align: right;\">\n",
       "      <th></th>\n",
       "      <th>customerID</th>\n",
       "      <th>tenure</th>\n",
       "      <th>PhoneService</th>\n",
       "      <th>Contract</th>\n",
       "      <th>PaperlessBilling</th>\n",
       "      <th>PaymentMethod</th>\n",
       "      <th>MonthlyCharges</th>\n",
       "      <th>TotalCharges</th>\n",
       "      <th>Churn</th>\n",
       "    </tr>\n",
       "  </thead>\n",
       "  <tbody>\n",
       "    <tr>\n",
       "      <th>0</th>\n",
       "      <td>7590-VHVEG</td>\n",
       "      <td>1</td>\n",
       "      <td>No</td>\n",
       "      <td>Month-to-month</td>\n",
       "      <td>Yes</td>\n",
       "      <td>Electronic check</td>\n",
       "      <td>29.85</td>\n",
       "      <td>29.85</td>\n",
       "      <td>No</td>\n",
       "    </tr>\n",
       "    <tr>\n",
       "      <th>1</th>\n",
       "      <td>5575-GNVDE</td>\n",
       "      <td>34</td>\n",
       "      <td>Yes</td>\n",
       "      <td>One year</td>\n",
       "      <td>No</td>\n",
       "      <td>Mailed check</td>\n",
       "      <td>56.95</td>\n",
       "      <td>1889.5</td>\n",
       "      <td>No</td>\n",
       "    </tr>\n",
       "  </tbody>\n",
       "</table>\n",
       "</div>"
      ],
      "text/plain": [
       "   customerID  tenure PhoneService        Contract PaperlessBilling  \\\n",
       "0  7590-VHVEG       1           No  Month-to-month              Yes   \n",
       "1  5575-GNVDE      34          Yes        One year               No   \n",
       "\n",
       "      PaymentMethod  MonthlyCharges TotalCharges Churn  \n",
       "0  Electronic check           29.85        29.85    No  \n",
       "1      Mailed check           56.95       1889.5    No  "
      ]
     },
     "execution_count": 3,
     "metadata": {},
     "output_type": "execute_result"
    }
   ],
   "source": [
    "churn = pd.read_csv(\"churn_data.csv\")\n",
    "churn.head(2)"
   ]
  },
  {
   "cell_type": "code",
   "execution_count": 4,
   "metadata": {},
   "outputs": [
    {
     "data": {
      "text/html": [
       "<div>\n",
       "<style scoped>\n",
       "    .dataframe tbody tr th:only-of-type {\n",
       "        vertical-align: middle;\n",
       "    }\n",
       "\n",
       "    .dataframe tbody tr th {\n",
       "        vertical-align: top;\n",
       "    }\n",
       "\n",
       "    .dataframe thead th {\n",
       "        text-align: right;\n",
       "    }\n",
       "</style>\n",
       "<table border=\"1\" class=\"dataframe\">\n",
       "  <thead>\n",
       "    <tr style=\"text-align: right;\">\n",
       "      <th></th>\n",
       "      <th>customerID</th>\n",
       "      <th>gender</th>\n",
       "      <th>SeniorCitizen</th>\n",
       "      <th>Partner</th>\n",
       "      <th>Dependents</th>\n",
       "    </tr>\n",
       "  </thead>\n",
       "  <tbody>\n",
       "    <tr>\n",
       "      <th>0</th>\n",
       "      <td>7590-VHVEG</td>\n",
       "      <td>Female</td>\n",
       "      <td>0</td>\n",
       "      <td>Yes</td>\n",
       "      <td>No</td>\n",
       "    </tr>\n",
       "    <tr>\n",
       "      <th>1</th>\n",
       "      <td>5575-GNVDE</td>\n",
       "      <td>Male</td>\n",
       "      <td>0</td>\n",
       "      <td>No</td>\n",
       "      <td>No</td>\n",
       "    </tr>\n",
       "  </tbody>\n",
       "</table>\n",
       "</div>"
      ],
      "text/plain": [
       "   customerID  gender  SeniorCitizen Partner Dependents\n",
       "0  7590-VHVEG  Female              0     Yes         No\n",
       "1  5575-GNVDE    Male              0      No         No"
      ]
     },
     "execution_count": 4,
     "metadata": {},
     "output_type": "execute_result"
    }
   ],
   "source": [
    "customer = pd.read_csv(\"customer_data.csv\")\n",
    "customer.head(2)"
   ]
  },
  {
   "cell_type": "code",
   "execution_count": 5,
   "metadata": {},
   "outputs": [
    {
     "data": {
      "text/html": [
       "<div>\n",
       "<style scoped>\n",
       "    .dataframe tbody tr th:only-of-type {\n",
       "        vertical-align: middle;\n",
       "    }\n",
       "\n",
       "    .dataframe tbody tr th {\n",
       "        vertical-align: top;\n",
       "    }\n",
       "\n",
       "    .dataframe thead th {\n",
       "        text-align: right;\n",
       "    }\n",
       "</style>\n",
       "<table border=\"1\" class=\"dataframe\">\n",
       "  <thead>\n",
       "    <tr style=\"text-align: right;\">\n",
       "      <th></th>\n",
       "      <th>customerID</th>\n",
       "      <th>MultipleLines</th>\n",
       "      <th>InternetService</th>\n",
       "      <th>OnlineSecurity</th>\n",
       "      <th>OnlineBackup</th>\n",
       "      <th>DeviceProtection</th>\n",
       "      <th>TechSupport</th>\n",
       "      <th>StreamingTV</th>\n",
       "      <th>StreamingMovies</th>\n",
       "    </tr>\n",
       "  </thead>\n",
       "  <tbody>\n",
       "    <tr>\n",
       "      <th>0</th>\n",
       "      <td>7590-VHVEG</td>\n",
       "      <td>No phone service</td>\n",
       "      <td>DSL</td>\n",
       "      <td>No</td>\n",
       "      <td>Yes</td>\n",
       "      <td>No</td>\n",
       "      <td>No</td>\n",
       "      <td>No</td>\n",
       "      <td>No</td>\n",
       "    </tr>\n",
       "    <tr>\n",
       "      <th>1</th>\n",
       "      <td>5575-GNVDE</td>\n",
       "      <td>No</td>\n",
       "      <td>DSL</td>\n",
       "      <td>Yes</td>\n",
       "      <td>No</td>\n",
       "      <td>Yes</td>\n",
       "      <td>No</td>\n",
       "      <td>No</td>\n",
       "      <td>No</td>\n",
       "    </tr>\n",
       "  </tbody>\n",
       "</table>\n",
       "</div>"
      ],
      "text/plain": [
       "   customerID     MultipleLines InternetService OnlineSecurity OnlineBackup  \\\n",
       "0  7590-VHVEG  No phone service             DSL             No          Yes   \n",
       "1  5575-GNVDE                No             DSL            Yes           No   \n",
       "\n",
       "  DeviceProtection TechSupport StreamingTV StreamingMovies  \n",
       "0               No          No          No              No  \n",
       "1              Yes          No          No              No  "
      ]
     },
     "execution_count": 5,
     "metadata": {},
     "output_type": "execute_result"
    }
   ],
   "source": [
    "internet = pd.read_csv(\"internet_data.csv\")\n",
    "internet.head(2)"
   ]
  },
  {
   "cell_type": "code",
   "execution_count": 6,
   "metadata": {},
   "outputs": [],
   "source": [
    "#merging churn & customer dataset\n",
    "df=pd.merge(churn,customer, on='customerID' , how=\"inner\")"
   ]
  },
  {
   "cell_type": "code",
   "execution_count": 7,
   "metadata": {},
   "outputs": [],
   "source": [
    "#merging internet & churn & customer dataset\n",
    "df=pd.merge(df,internet, on='customerID' , how=\"inner\")"
   ]
  },
  {
   "cell_type": "code",
   "execution_count": 8,
   "metadata": {},
   "outputs": [
    {
     "data": {
      "text/html": [
       "<div>\n",
       "<style scoped>\n",
       "    .dataframe tbody tr th:only-of-type {\n",
       "        vertical-align: middle;\n",
       "    }\n",
       "\n",
       "    .dataframe tbody tr th {\n",
       "        vertical-align: top;\n",
       "    }\n",
       "\n",
       "    .dataframe thead th {\n",
       "        text-align: right;\n",
       "    }\n",
       "</style>\n",
       "<table border=\"1\" class=\"dataframe\">\n",
       "  <thead>\n",
       "    <tr style=\"text-align: right;\">\n",
       "      <th></th>\n",
       "      <th>customerID</th>\n",
       "      <th>tenure</th>\n",
       "      <th>PhoneService</th>\n",
       "      <th>Contract</th>\n",
       "      <th>PaperlessBilling</th>\n",
       "      <th>PaymentMethod</th>\n",
       "      <th>MonthlyCharges</th>\n",
       "      <th>TotalCharges</th>\n",
       "      <th>Churn</th>\n",
       "      <th>gender</th>\n",
       "      <th>...</th>\n",
       "      <th>Partner</th>\n",
       "      <th>Dependents</th>\n",
       "      <th>MultipleLines</th>\n",
       "      <th>InternetService</th>\n",
       "      <th>OnlineSecurity</th>\n",
       "      <th>OnlineBackup</th>\n",
       "      <th>DeviceProtection</th>\n",
       "      <th>TechSupport</th>\n",
       "      <th>StreamingTV</th>\n",
       "      <th>StreamingMovies</th>\n",
       "    </tr>\n",
       "  </thead>\n",
       "  <tbody>\n",
       "    <tr>\n",
       "      <th>0</th>\n",
       "      <td>7590-VHVEG</td>\n",
       "      <td>1</td>\n",
       "      <td>No</td>\n",
       "      <td>Month-to-month</td>\n",
       "      <td>Yes</td>\n",
       "      <td>Electronic check</td>\n",
       "      <td>29.85</td>\n",
       "      <td>29.85</td>\n",
       "      <td>No</td>\n",
       "      <td>Female</td>\n",
       "      <td>...</td>\n",
       "      <td>Yes</td>\n",
       "      <td>No</td>\n",
       "      <td>No phone service</td>\n",
       "      <td>DSL</td>\n",
       "      <td>No</td>\n",
       "      <td>Yes</td>\n",
       "      <td>No</td>\n",
       "      <td>No</td>\n",
       "      <td>No</td>\n",
       "      <td>No</td>\n",
       "    </tr>\n",
       "    <tr>\n",
       "      <th>1</th>\n",
       "      <td>5575-GNVDE</td>\n",
       "      <td>34</td>\n",
       "      <td>Yes</td>\n",
       "      <td>One year</td>\n",
       "      <td>No</td>\n",
       "      <td>Mailed check</td>\n",
       "      <td>56.95</td>\n",
       "      <td>1889.5</td>\n",
       "      <td>No</td>\n",
       "      <td>Male</td>\n",
       "      <td>...</td>\n",
       "      <td>No</td>\n",
       "      <td>No</td>\n",
       "      <td>No</td>\n",
       "      <td>DSL</td>\n",
       "      <td>Yes</td>\n",
       "      <td>No</td>\n",
       "      <td>Yes</td>\n",
       "      <td>No</td>\n",
       "      <td>No</td>\n",
       "      <td>No</td>\n",
       "    </tr>\n",
       "    <tr>\n",
       "      <th>2</th>\n",
       "      <td>3668-QPYBK</td>\n",
       "      <td>2</td>\n",
       "      <td>Yes</td>\n",
       "      <td>Month-to-month</td>\n",
       "      <td>Yes</td>\n",
       "      <td>Mailed check</td>\n",
       "      <td>53.85</td>\n",
       "      <td>108.15</td>\n",
       "      <td>Yes</td>\n",
       "      <td>Male</td>\n",
       "      <td>...</td>\n",
       "      <td>No</td>\n",
       "      <td>No</td>\n",
       "      <td>No</td>\n",
       "      <td>DSL</td>\n",
       "      <td>Yes</td>\n",
       "      <td>Yes</td>\n",
       "      <td>No</td>\n",
       "      <td>No</td>\n",
       "      <td>No</td>\n",
       "      <td>No</td>\n",
       "    </tr>\n",
       "    <tr>\n",
       "      <th>3</th>\n",
       "      <td>7795-CFOCW</td>\n",
       "      <td>45</td>\n",
       "      <td>No</td>\n",
       "      <td>One year</td>\n",
       "      <td>No</td>\n",
       "      <td>Bank transfer (automatic)</td>\n",
       "      <td>42.30</td>\n",
       "      <td>1840.75</td>\n",
       "      <td>No</td>\n",
       "      <td>Male</td>\n",
       "      <td>...</td>\n",
       "      <td>No</td>\n",
       "      <td>No</td>\n",
       "      <td>No phone service</td>\n",
       "      <td>DSL</td>\n",
       "      <td>Yes</td>\n",
       "      <td>No</td>\n",
       "      <td>Yes</td>\n",
       "      <td>Yes</td>\n",
       "      <td>No</td>\n",
       "      <td>No</td>\n",
       "    </tr>\n",
       "    <tr>\n",
       "      <th>4</th>\n",
       "      <td>9237-HQITU</td>\n",
       "      <td>2</td>\n",
       "      <td>Yes</td>\n",
       "      <td>Month-to-month</td>\n",
       "      <td>Yes</td>\n",
       "      <td>Electronic check</td>\n",
       "      <td>70.70</td>\n",
       "      <td>151.65</td>\n",
       "      <td>Yes</td>\n",
       "      <td>Female</td>\n",
       "      <td>...</td>\n",
       "      <td>No</td>\n",
       "      <td>No</td>\n",
       "      <td>No</td>\n",
       "      <td>Fiber optic</td>\n",
       "      <td>No</td>\n",
       "      <td>No</td>\n",
       "      <td>No</td>\n",
       "      <td>No</td>\n",
       "      <td>No</td>\n",
       "      <td>No</td>\n",
       "    </tr>\n",
       "  </tbody>\n",
       "</table>\n",
       "<p>5 rows × 21 columns</p>\n",
       "</div>"
      ],
      "text/plain": [
       "   customerID  tenure PhoneService        Contract PaperlessBilling  \\\n",
       "0  7590-VHVEG       1           No  Month-to-month              Yes   \n",
       "1  5575-GNVDE      34          Yes        One year               No   \n",
       "2  3668-QPYBK       2          Yes  Month-to-month              Yes   \n",
       "3  7795-CFOCW      45           No        One year               No   \n",
       "4  9237-HQITU       2          Yes  Month-to-month              Yes   \n",
       "\n",
       "               PaymentMethod  MonthlyCharges TotalCharges Churn  gender  ...  \\\n",
       "0           Electronic check           29.85        29.85    No  Female  ...   \n",
       "1               Mailed check           56.95       1889.5    No    Male  ...   \n",
       "2               Mailed check           53.85       108.15   Yes    Male  ...   \n",
       "3  Bank transfer (automatic)           42.30      1840.75    No    Male  ...   \n",
       "4           Electronic check           70.70       151.65   Yes  Female  ...   \n",
       "\n",
       "   Partner Dependents     MultipleLines InternetService OnlineSecurity  \\\n",
       "0      Yes         No  No phone service             DSL             No   \n",
       "1       No         No                No             DSL            Yes   \n",
       "2       No         No                No             DSL            Yes   \n",
       "3       No         No  No phone service             DSL            Yes   \n",
       "4       No         No                No     Fiber optic             No   \n",
       "\n",
       "  OnlineBackup DeviceProtection TechSupport StreamingTV StreamingMovies  \n",
       "0          Yes               No          No          No              No  \n",
       "1           No              Yes          No          No              No  \n",
       "2          Yes               No          No          No              No  \n",
       "3           No              Yes         Yes          No              No  \n",
       "4           No               No          No          No              No  \n",
       "\n",
       "[5 rows x 21 columns]"
      ]
     },
     "execution_count": 8,
     "metadata": {},
     "output_type": "execute_result"
    }
   ],
   "source": [
    "df.head()"
   ]
  },
  {
   "cell_type": "code",
   "execution_count": 9,
   "metadata": {},
   "outputs": [],
   "source": [
    "#inspecting the data"
   ]
  },
  {
   "cell_type": "markdown",
   "metadata": {},
   "source": [
    "#no missing values observed in the dataset"
   ]
  },
  {
   "cell_type": "code",
   "execution_count": 10,
   "metadata": {},
   "outputs": [
    {
     "data": {
      "text/plain": [
       "(7043, 21)"
      ]
     },
     "execution_count": 10,
     "metadata": {},
     "output_type": "execute_result"
    }
   ],
   "source": [
    "df.shape"
   ]
  },
  {
   "cell_type": "code",
   "execution_count": 11,
   "metadata": {},
   "outputs": [
    {
     "data": {
      "text/html": [
       "<div>\n",
       "<style scoped>\n",
       "    .dataframe tbody tr th:only-of-type {\n",
       "        vertical-align: middle;\n",
       "    }\n",
       "\n",
       "    .dataframe tbody tr th {\n",
       "        vertical-align: top;\n",
       "    }\n",
       "\n",
       "    .dataframe thead th {\n",
       "        text-align: right;\n",
       "    }\n",
       "</style>\n",
       "<table border=\"1\" class=\"dataframe\">\n",
       "  <thead>\n",
       "    <tr style=\"text-align: right;\">\n",
       "      <th></th>\n",
       "      <th>tenure</th>\n",
       "      <th>MonthlyCharges</th>\n",
       "      <th>SeniorCitizen</th>\n",
       "    </tr>\n",
       "  </thead>\n",
       "  <tbody>\n",
       "    <tr>\n",
       "      <th>count</th>\n",
       "      <td>7043.000000</td>\n",
       "      <td>7043.000000</td>\n",
       "      <td>7043.000000</td>\n",
       "    </tr>\n",
       "    <tr>\n",
       "      <th>mean</th>\n",
       "      <td>32.371149</td>\n",
       "      <td>64.761692</td>\n",
       "      <td>0.162147</td>\n",
       "    </tr>\n",
       "    <tr>\n",
       "      <th>std</th>\n",
       "      <td>24.559481</td>\n",
       "      <td>30.090047</td>\n",
       "      <td>0.368612</td>\n",
       "    </tr>\n",
       "    <tr>\n",
       "      <th>min</th>\n",
       "      <td>0.000000</td>\n",
       "      <td>18.250000</td>\n",
       "      <td>0.000000</td>\n",
       "    </tr>\n",
       "    <tr>\n",
       "      <th>25%</th>\n",
       "      <td>9.000000</td>\n",
       "      <td>35.500000</td>\n",
       "      <td>0.000000</td>\n",
       "    </tr>\n",
       "    <tr>\n",
       "      <th>50%</th>\n",
       "      <td>29.000000</td>\n",
       "      <td>70.350000</td>\n",
       "      <td>0.000000</td>\n",
       "    </tr>\n",
       "    <tr>\n",
       "      <th>75%</th>\n",
       "      <td>55.000000</td>\n",
       "      <td>89.850000</td>\n",
       "      <td>0.000000</td>\n",
       "    </tr>\n",
       "    <tr>\n",
       "      <th>80%</th>\n",
       "      <td>60.000000</td>\n",
       "      <td>94.250000</td>\n",
       "      <td>0.000000</td>\n",
       "    </tr>\n",
       "    <tr>\n",
       "      <th>90%</th>\n",
       "      <td>69.000000</td>\n",
       "      <td>102.600000</td>\n",
       "      <td>1.000000</td>\n",
       "    </tr>\n",
       "    <tr>\n",
       "      <th>95%</th>\n",
       "      <td>72.000000</td>\n",
       "      <td>107.400000</td>\n",
       "      <td>1.000000</td>\n",
       "    </tr>\n",
       "    <tr>\n",
       "      <th>99%</th>\n",
       "      <td>72.000000</td>\n",
       "      <td>114.729000</td>\n",
       "      <td>1.000000</td>\n",
       "    </tr>\n",
       "    <tr>\n",
       "      <th>max</th>\n",
       "      <td>72.000000</td>\n",
       "      <td>118.750000</td>\n",
       "      <td>1.000000</td>\n",
       "    </tr>\n",
       "  </tbody>\n",
       "</table>\n",
       "</div>"
      ],
      "text/plain": [
       "            tenure  MonthlyCharges  SeniorCitizen\n",
       "count  7043.000000     7043.000000    7043.000000\n",
       "mean     32.371149       64.761692       0.162147\n",
       "std      24.559481       30.090047       0.368612\n",
       "min       0.000000       18.250000       0.000000\n",
       "25%       9.000000       35.500000       0.000000\n",
       "50%      29.000000       70.350000       0.000000\n",
       "75%      55.000000       89.850000       0.000000\n",
       "80%      60.000000       94.250000       0.000000\n",
       "90%      69.000000      102.600000       1.000000\n",
       "95%      72.000000      107.400000       1.000000\n",
       "99%      72.000000      114.729000       1.000000\n",
       "max      72.000000      118.750000       1.000000"
      ]
     },
     "execution_count": 11,
     "metadata": {},
     "output_type": "execute_result"
    }
   ],
   "source": [
    "df.describe([0.25,0.50,0.75,0.80,0.90,0.95,0.99])"
   ]
  },
  {
   "cell_type": "markdown",
   "metadata": {},
   "source": [
    "no such outlier observed"
   ]
  },
  {
   "cell_type": "code",
   "execution_count": 12,
   "metadata": {},
   "outputs": [
    {
     "name": "stdout",
     "output_type": "stream",
     "text": [
      "<class 'pandas.core.frame.DataFrame'>\n",
      "Int64Index: 7043 entries, 0 to 7042\n",
      "Data columns (total 21 columns):\n",
      " #   Column            Non-Null Count  Dtype  \n",
      "---  ------            --------------  -----  \n",
      " 0   customerID        7043 non-null   object \n",
      " 1   tenure            7043 non-null   int64  \n",
      " 2   PhoneService      7043 non-null   object \n",
      " 3   Contract          7043 non-null   object \n",
      " 4   PaperlessBilling  7043 non-null   object \n",
      " 5   PaymentMethod     7043 non-null   object \n",
      " 6   MonthlyCharges    7043 non-null   float64\n",
      " 7   TotalCharges      7043 non-null   object \n",
      " 8   Churn             7043 non-null   object \n",
      " 9   gender            7043 non-null   object \n",
      " 10  SeniorCitizen     7043 non-null   int64  \n",
      " 11  Partner           7043 non-null   object \n",
      " 12  Dependents        7043 non-null   object \n",
      " 13  MultipleLines     7043 non-null   object \n",
      " 14  InternetService   7043 non-null   object \n",
      " 15  OnlineSecurity    7043 non-null   object \n",
      " 16  OnlineBackup      7043 non-null   object \n",
      " 17  DeviceProtection  7043 non-null   object \n",
      " 18  TechSupport       7043 non-null   object \n",
      " 19  StreamingTV       7043 non-null   object \n",
      " 20  StreamingMovies   7043 non-null   object \n",
      "dtypes: float64(1), int64(2), object(18)\n",
      "memory usage: 1.2+ MB\n"
     ]
    }
   ],
   "source": [
    "df.info()"
   ]
  },
  {
   "cell_type": "markdown",
   "metadata": {},
   "source": [
    "## data cleaning"
   ]
  },
  {
   "cell_type": "code",
   "execution_count": 13,
   "metadata": {},
   "outputs": [
    {
     "data": {
      "text/plain": [
       "customerID          0\n",
       "tenure              0\n",
       "PhoneService        0\n",
       "Contract            0\n",
       "PaperlessBilling    0\n",
       "PaymentMethod       0\n",
       "MonthlyCharges      0\n",
       "TotalCharges        0\n",
       "Churn               0\n",
       "gender              0\n",
       "SeniorCitizen       0\n",
       "Partner             0\n",
       "Dependents          0\n",
       "MultipleLines       0\n",
       "InternetService     0\n",
       "OnlineSecurity      0\n",
       "OnlineBackup        0\n",
       "DeviceProtection    0\n",
       "TechSupport         0\n",
       "StreamingTV         0\n",
       "StreamingMovies     0\n",
       "dtype: int64"
      ]
     },
     "execution_count": 13,
     "metadata": {},
     "output_type": "execute_result"
    }
   ],
   "source": [
    "df.isnull().sum()"
   ]
  },
  {
   "cell_type": "code",
   "execution_count": 14,
   "metadata": {},
   "outputs": [],
   "source": [
    "#dropping customerid column as it doesn't hold any significant relation with churn data\n",
    "\n",
    "df.drop(\"customerID\", axis=1,inplace=True)"
   ]
  },
  {
   "cell_type": "code",
   "execution_count": 15,
   "metadata": {},
   "outputs": [
    {
     "data": {
      "text/plain": [
       "Index(['tenure', 'PhoneService', 'Contract', 'PaperlessBilling',\n",
       "       'PaymentMethod', 'MonthlyCharges', 'TotalCharges', 'Churn', 'gender',\n",
       "       'SeniorCitizen', 'Partner', 'Dependents', 'MultipleLines',\n",
       "       'InternetService', 'OnlineSecurity', 'OnlineBackup', 'DeviceProtection',\n",
       "       'TechSupport', 'StreamingTV', 'StreamingMovies'],\n",
       "      dtype='object')"
      ]
     },
     "execution_count": 15,
     "metadata": {},
     "output_type": "execute_result"
    }
   ],
   "source": [
    "df.columns"
   ]
  },
  {
   "cell_type": "code",
   "execution_count": 16,
   "metadata": {},
   "outputs": [
    {
     "data": {
      "text/plain": [
       "0    5901\n",
       "1    1142\n",
       "Name: SeniorCitizen, dtype: int64"
      ]
     },
     "execution_count": 16,
     "metadata": {},
     "output_type": "execute_result"
    }
   ],
   "source": [
    "df.SeniorCitizen.value_counts()"
   ]
  },
  {
   "cell_type": "code",
   "execution_count": 17,
   "metadata": {},
   "outputs": [],
   "source": [
    "varlist=[\"PhoneService\",'PaperlessBilling','Churn', 'Partner', 'Dependents']\n",
    "def binary(x):\n",
    "    return x.map({'Yes': 1, \"No\": 0})\n",
    "\n",
    "df[varlist] = df[varlist].apply(binary)"
   ]
  },
  {
   "cell_type": "code",
   "execution_count": 18,
   "metadata": {},
   "outputs": [
    {
     "data": {
      "text/html": [
       "<div>\n",
       "<style scoped>\n",
       "    .dataframe tbody tr th:only-of-type {\n",
       "        vertical-align: middle;\n",
       "    }\n",
       "\n",
       "    .dataframe tbody tr th {\n",
       "        vertical-align: top;\n",
       "    }\n",
       "\n",
       "    .dataframe thead th {\n",
       "        text-align: right;\n",
       "    }\n",
       "</style>\n",
       "<table border=\"1\" class=\"dataframe\">\n",
       "  <thead>\n",
       "    <tr style=\"text-align: right;\">\n",
       "      <th></th>\n",
       "      <th>tenure</th>\n",
       "      <th>PhoneService</th>\n",
       "      <th>Contract</th>\n",
       "      <th>PaperlessBilling</th>\n",
       "      <th>PaymentMethod</th>\n",
       "      <th>MonthlyCharges</th>\n",
       "      <th>TotalCharges</th>\n",
       "      <th>Churn</th>\n",
       "      <th>gender</th>\n",
       "      <th>SeniorCitizen</th>\n",
       "      <th>Partner</th>\n",
       "      <th>Dependents</th>\n",
       "      <th>MultipleLines</th>\n",
       "      <th>InternetService</th>\n",
       "      <th>OnlineSecurity</th>\n",
       "      <th>OnlineBackup</th>\n",
       "      <th>DeviceProtection</th>\n",
       "      <th>TechSupport</th>\n",
       "      <th>StreamingTV</th>\n",
       "      <th>StreamingMovies</th>\n",
       "    </tr>\n",
       "  </thead>\n",
       "  <tbody>\n",
       "    <tr>\n",
       "      <th>0</th>\n",
       "      <td>1</td>\n",
       "      <td>0</td>\n",
       "      <td>Month-to-month</td>\n",
       "      <td>1</td>\n",
       "      <td>Electronic check</td>\n",
       "      <td>29.85</td>\n",
       "      <td>29.85</td>\n",
       "      <td>0</td>\n",
       "      <td>Female</td>\n",
       "      <td>0</td>\n",
       "      <td>1</td>\n",
       "      <td>0</td>\n",
       "      <td>No phone service</td>\n",
       "      <td>DSL</td>\n",
       "      <td>No</td>\n",
       "      <td>Yes</td>\n",
       "      <td>No</td>\n",
       "      <td>No</td>\n",
       "      <td>No</td>\n",
       "      <td>No</td>\n",
       "    </tr>\n",
       "    <tr>\n",
       "      <th>1</th>\n",
       "      <td>34</td>\n",
       "      <td>1</td>\n",
       "      <td>One year</td>\n",
       "      <td>0</td>\n",
       "      <td>Mailed check</td>\n",
       "      <td>56.95</td>\n",
       "      <td>1889.5</td>\n",
       "      <td>0</td>\n",
       "      <td>Male</td>\n",
       "      <td>0</td>\n",
       "      <td>0</td>\n",
       "      <td>0</td>\n",
       "      <td>No</td>\n",
       "      <td>DSL</td>\n",
       "      <td>Yes</td>\n",
       "      <td>No</td>\n",
       "      <td>Yes</td>\n",
       "      <td>No</td>\n",
       "      <td>No</td>\n",
       "      <td>No</td>\n",
       "    </tr>\n",
       "  </tbody>\n",
       "</table>\n",
       "</div>"
      ],
      "text/plain": [
       "   tenure  PhoneService        Contract  PaperlessBilling     PaymentMethod  \\\n",
       "0       1             0  Month-to-month                 1  Electronic check   \n",
       "1      34             1        One year                 0      Mailed check   \n",
       "\n",
       "   MonthlyCharges TotalCharges  Churn  gender  SeniorCitizen  Partner  \\\n",
       "0           29.85        29.85      0  Female              0        1   \n",
       "1           56.95       1889.5      0    Male              0        0   \n",
       "\n",
       "   Dependents     MultipleLines InternetService OnlineSecurity OnlineBackup  \\\n",
       "0           0  No phone service             DSL             No          Yes   \n",
       "1           0                No             DSL            Yes           No   \n",
       "\n",
       "  DeviceProtection TechSupport StreamingTV StreamingMovies  \n",
       "0               No          No          No              No  \n",
       "1              Yes          No          No              No  "
      ]
     },
     "execution_count": 18,
     "metadata": {},
     "output_type": "execute_result"
    }
   ],
   "source": [
    "df.head(2)"
   ]
  },
  {
   "cell_type": "code",
   "execution_count": 19,
   "metadata": {},
   "outputs": [
    {
     "data": {
      "text/plain": [
       "No                  3390\n",
       "Yes                 2971\n",
       "No phone service     682\n",
       "Name: MultipleLines, dtype: int64"
      ]
     },
     "execution_count": 19,
     "metadata": {},
     "output_type": "execute_result"
    }
   ],
   "source": [
    "df.MultipleLines.value_counts()"
   ]
  },
  {
   "cell_type": "code",
   "execution_count": 20,
   "metadata": {},
   "outputs": [],
   "source": [
    "c=pd.get_dummies(df.Contract)\n",
    "df=pd.concat([df,c],axis=1)\n",
    "df.drop([\"Contract\",\"Two year\"],axis=1,inplace=True)\n",
    "#since month_to_month was more useful than 2 year \n",
    "df.rename(columns = {'One year':'One year or +'},inplace=True)"
   ]
  },
  {
   "cell_type": "code",
   "execution_count": 21,
   "metadata": {},
   "outputs": [],
   "source": [
    "#dummy value for payment method\n",
    "pm=pd.get_dummies(df.PaymentMethod,drop_first=True)\n",
    "df=pd.concat([df,pm],axis=1)\n",
    "df.drop([\"PaymentMethod\"],axis=1,inplace=True)"
   ]
  },
  {
   "cell_type": "code",
   "execution_count": 22,
   "metadata": {},
   "outputs": [],
   "source": [
    "#dummy value for gender\n",
    "g=pd.get_dummies(df.gender,drop_first=True)\n",
    "df=pd.concat([df,g],axis=1)\n",
    "df.drop([\"gender\"],axis=1,inplace=True)"
   ]
  },
  {
   "cell_type": "code",
   "execution_count": 23,
   "metadata": {},
   "outputs": [],
   "source": [
    "#dummy value for MultipleLines\n",
    "ml=pd.get_dummies(df.MultipleLines,drop_first=True,prefix=\"Multipleline\")\n",
    "df=pd.concat([df,ml],axis=1)\n",
    "df.drop([\"MultipleLines\"],axis=1,inplace=True)\n"
   ]
  },
  {
   "cell_type": "code",
   "execution_count": 24,
   "metadata": {},
   "outputs": [],
   "source": [
    "df.drop([\"Multipleline_No phone service\"],axis=1,inplace=True)"
   ]
  },
  {
   "cell_type": "code",
   "execution_count": 25,
   "metadata": {},
   "outputs": [
    {
     "data": {
      "text/plain": [
       "No                     3095\n",
       "Yes                    2422\n",
       "No internet service    1526\n",
       "Name: DeviceProtection, dtype: int64"
      ]
     },
     "execution_count": 25,
     "metadata": {},
     "output_type": "execute_result"
    }
   ],
   "source": [
    "df.DeviceProtection.value_counts()"
   ]
  },
  {
   "cell_type": "code",
   "execution_count": 26,
   "metadata": {},
   "outputs": [],
   "source": [
    "#dummy value for DeviceProtection\n",
    "dp=pd.get_dummies(df.DeviceProtection,drop_first=True,prefix=\"DeviceProtection\")\n",
    "df=pd.concat([df,dp],axis=1)\n",
    "df.drop([\"DeviceProtection\"],axis=1,inplace=True)\n",
    "\n",
    "df.drop([\"DeviceProtection_No internet service\"],axis=1,inplace=True)"
   ]
  },
  {
   "cell_type": "code",
   "execution_count": 27,
   "metadata": {},
   "outputs": [
    {
     "data": {
      "text/plain": [
       "No                     3473\n",
       "Yes                    2044\n",
       "No internet service    1526\n",
       "Name: TechSupport, dtype: int64"
      ]
     },
     "execution_count": 27,
     "metadata": {},
     "output_type": "execute_result"
    }
   ],
   "source": [
    "df.TechSupport.value_counts()"
   ]
  },
  {
   "cell_type": "code",
   "execution_count": 28,
   "metadata": {},
   "outputs": [],
   "source": [
    "#dummy value for TechSupport\n",
    "ts=pd.get_dummies(df.TechSupport,drop_first=True,prefix=\"TechSupport\")\n",
    "df=pd.concat([df,ts],axis=1)\n",
    "df.drop([\"TechSupport\"],axis=1,inplace=True)\n",
    "\n",
    "df.drop([\"TechSupport_No internet service\"],axis=1,inplace=True)"
   ]
  },
  {
   "cell_type": "code",
   "execution_count": 29,
   "metadata": {},
   "outputs": [
    {
     "data": {
      "text/plain": [
       "No                     2810\n",
       "Yes                    2707\n",
       "No internet service    1526\n",
       "Name: StreamingTV, dtype: int64"
      ]
     },
     "execution_count": 29,
     "metadata": {},
     "output_type": "execute_result"
    }
   ],
   "source": [
    "df.StreamingTV.value_counts()"
   ]
  },
  {
   "cell_type": "code",
   "execution_count": 30,
   "metadata": {},
   "outputs": [],
   "source": [
    "#dummy value for StreamingTV\n",
    "st=pd.get_dummies(df.StreamingTV,drop_first=True,prefix=\"StreamingTV\")\n",
    "df=pd.concat([df,st],axis=1)\n",
    "df.drop([\"StreamingTV\"],axis=1,inplace=True)\n",
    "\n",
    "df.drop([\"StreamingTV_No internet service\"],axis=1,inplace=True)"
   ]
  },
  {
   "cell_type": "code",
   "execution_count": 31,
   "metadata": {},
   "outputs": [
    {
     "data": {
      "text/plain": [
       "No                     2785\n",
       "Yes                    2732\n",
       "No internet service    1526\n",
       "Name: StreamingMovies, dtype: int64"
      ]
     },
     "execution_count": 31,
     "metadata": {},
     "output_type": "execute_result"
    }
   ],
   "source": [
    "df.StreamingMovies.value_counts()"
   ]
  },
  {
   "cell_type": "code",
   "execution_count": 32,
   "metadata": {},
   "outputs": [],
   "source": [
    "#dummy value for StreamingMovies\n",
    "sm=pd.get_dummies(df.StreamingMovies,drop_first=True,prefix=\"StreamingMovies\")\n",
    "df=pd.concat([df,sm],axis=1)\n",
    "df.drop([\"StreamingMovies\"],axis=1,inplace=True)\n",
    "\n",
    "df.drop([\"StreamingMovies_No internet service\"],axis=1,inplace=True)"
   ]
  },
  {
   "cell_type": "code",
   "execution_count": 33,
   "metadata": {},
   "outputs": [
    {
     "data": {
      "text/plain": [
       "No                     3498\n",
       "Yes                    2019\n",
       "No internet service    1526\n",
       "Name: OnlineSecurity, dtype: int64"
      ]
     },
     "execution_count": 33,
     "metadata": {},
     "output_type": "execute_result"
    }
   ],
   "source": [
    "df.OnlineSecurity.value_counts()"
   ]
  },
  {
   "cell_type": "code",
   "execution_count": 34,
   "metadata": {},
   "outputs": [],
   "source": [
    "#dummy value for OnlineSecurity\n",
    "os=pd.get_dummies(df.OnlineSecurity,drop_first=True,prefix=\"OnlineSecurity\")\n",
    "df=pd.concat([df,os],axis=1)\n",
    "df.drop([\"OnlineSecurity\"],axis=1,inplace=True)\n",
    "\n",
    "df.drop([\"OnlineSecurity_No internet service\"],axis=1,inplace=True)"
   ]
  },
  {
   "cell_type": "code",
   "execution_count": 35,
   "metadata": {},
   "outputs": [
    {
     "data": {
      "text/plain": [
       "Fiber optic    3096\n",
       "DSL            2421\n",
       "No             1526\n",
       "Name: InternetService, dtype: int64"
      ]
     },
     "execution_count": 35,
     "metadata": {},
     "output_type": "execute_result"
    }
   ],
   "source": [
    "df.InternetService.value_counts()"
   ]
  },
  {
   "cell_type": "code",
   "execution_count": 36,
   "metadata": {},
   "outputs": [],
   "source": [
    "#dummy value for InternetService\n",
    "iser=pd.get_dummies(df.InternetService,prefix=\"InternetService\")\n",
    "df=pd.concat([df,iser],axis=1)\n",
    "df.drop([\"InternetService\"],axis=1,inplace=True)\n",
    "\n",
    "df.drop([\"InternetService_No\"],axis=1,inplace=True)"
   ]
  },
  {
   "cell_type": "code",
   "execution_count": 37,
   "metadata": {},
   "outputs": [
    {
     "data": {
      "text/plain": [
       "No                     3088\n",
       "Yes                    2429\n",
       "No internet service    1526\n",
       "Name: OnlineBackup, dtype: int64"
      ]
     },
     "execution_count": 37,
     "metadata": {},
     "output_type": "execute_result"
    }
   ],
   "source": [
    "df.OnlineBackup.value_counts()"
   ]
  },
  {
   "cell_type": "code",
   "execution_count": 38,
   "metadata": {},
   "outputs": [],
   "source": [
    "#dummy value for OnlineBackup\n",
    "ob=pd.get_dummies(df.OnlineBackup,prefix=\"OnlineBackup\")\n",
    "df=pd.concat([df,ob],axis=1)\n",
    "df.drop([\"OnlineBackup\"],axis=1,inplace=True)\n",
    "\n",
    "df.drop([\"OnlineBackup_No internet service\"],axis=1,inplace=True)"
   ]
  },
  {
   "cell_type": "code",
   "execution_count": 39,
   "metadata": {},
   "outputs": [],
   "source": [
    "df['MonthlyCharges'] = df['MonthlyCharges'].astype(float)"
   ]
  },
  {
   "cell_type": "code",
   "execution_count": 40,
   "metadata": {},
   "outputs": [],
   "source": [
    "# method 1 for replacing strings with nulls\n",
    "df['TotalCharges'] = pd.to_numeric(df['TotalCharges'], errors='coerce')\n",
    "#coerce is used to fill all the empty spaces with Nan's"
   ]
  },
  {
   "cell_type": "code",
   "execution_count": 41,
   "metadata": {},
   "outputs": [],
   "source": [
    "#np.where(df.TotalCharges==\" \")"
   ]
  },
  {
   "cell_type": "code",
   "execution_count": 42,
   "metadata": {},
   "outputs": [],
   "source": [
    "#df[\"TotalCharges\"][df.TotalCharges==\" \"]=np.NaN"
   ]
  },
  {
   "cell_type": "code",
   "execution_count": 43,
   "metadata": {},
   "outputs": [],
   "source": [
    "#df['TotalCharges']=df['TotalCharges'].convert_objects(convert_numeric=True)"
   ]
  },
  {
   "cell_type": "code",
   "execution_count": 44,
   "metadata": {},
   "outputs": [
    {
     "name": "stdout",
     "output_type": "stream",
     "text": [
      "<class 'pandas.core.frame.DataFrame'>\n",
      "Int64Index: 7043 entries, 0 to 7042\n",
      "Data columns (total 25 columns):\n",
      " #   Column                       Non-Null Count  Dtype  \n",
      "---  ------                       --------------  -----  \n",
      " 0   tenure                       7043 non-null   int64  \n",
      " 1   PhoneService                 7043 non-null   int64  \n",
      " 2   PaperlessBilling             7043 non-null   int64  \n",
      " 3   MonthlyCharges               7043 non-null   float64\n",
      " 4   TotalCharges                 7032 non-null   float64\n",
      " 5   Churn                        7043 non-null   int64  \n",
      " 6   SeniorCitizen                7043 non-null   int64  \n",
      " 7   Partner                      7043 non-null   int64  \n",
      " 8   Dependents                   7043 non-null   int64  \n",
      " 9   Month-to-month               7043 non-null   uint8  \n",
      " 10  One year or +                7043 non-null   uint8  \n",
      " 11  Credit card (automatic)      7043 non-null   uint8  \n",
      " 12  Electronic check             7043 non-null   uint8  \n",
      " 13  Mailed check                 7043 non-null   uint8  \n",
      " 14  Male                         7043 non-null   uint8  \n",
      " 15  Multipleline_Yes             7043 non-null   uint8  \n",
      " 16  DeviceProtection_Yes         7043 non-null   uint8  \n",
      " 17  TechSupport_Yes              7043 non-null   uint8  \n",
      " 18  StreamingTV_Yes              7043 non-null   uint8  \n",
      " 19  StreamingMovies_Yes          7043 non-null   uint8  \n",
      " 20  OnlineSecurity_Yes           7043 non-null   uint8  \n",
      " 21  InternetService_DSL          7043 non-null   uint8  \n",
      " 22  InternetService_Fiber optic  7043 non-null   uint8  \n",
      " 23  OnlineBackup_No              7043 non-null   uint8  \n",
      " 24  OnlineBackup_Yes             7043 non-null   uint8  \n",
      "dtypes: float64(2), int64(7), uint8(16)\n",
      "memory usage: 660.3 KB\n"
     ]
    }
   ],
   "source": [
    "df.info()"
   ]
  },
  {
   "cell_type": "code",
   "execution_count": 45,
   "metadata": {},
   "outputs": [
    {
     "data": {
      "text/plain": [
       "0.15618344455487718"
      ]
     },
     "execution_count": 45,
     "metadata": {},
     "output_type": "execute_result"
    }
   ],
   "source": [
    "#percentage of missing values\n",
    "11*100/7043"
   ]
  },
  {
   "cell_type": "code",
   "execution_count": 46,
   "metadata": {},
   "outputs": [
    {
     "data": {
      "text/plain": [
       "1397.475"
      ]
     },
     "execution_count": 46,
     "metadata": {},
     "output_type": "execute_result"
    }
   ],
   "source": [
    "df.TotalCharges.median()"
   ]
  },
  {
   "cell_type": "code",
   "execution_count": 47,
   "metadata": {},
   "outputs": [],
   "source": [
    "df[\"TotalCharges\"].fillna(df.TotalCharges.median(),inplace=True)"
   ]
  },
  {
   "cell_type": "markdown",
   "metadata": {},
   "source": [
    "## model building"
   ]
  },
  {
   "cell_type": "code",
   "execution_count": 48,
   "metadata": {},
   "outputs": [],
   "source": [
    "#preprocessing data"
   ]
  },
  {
   "cell_type": "code",
   "execution_count": 49,
   "metadata": {},
   "outputs": [],
   "source": [
    "#splitting using train_test_split"
   ]
  },
  {
   "cell_type": "code",
   "execution_count": 50,
   "metadata": {},
   "outputs": [],
   "source": [
    "x=df.drop([\"Churn\"],axis=1)\n",
    "y=df[\"Churn\"]"
   ]
  },
  {
   "cell_type": "code",
   "execution_count": 51,
   "metadata": {},
   "outputs": [
    {
     "data": {
      "text/plain": [
       "((7043, 25), (7043, 24))"
      ]
     },
     "execution_count": 51,
     "metadata": {},
     "output_type": "execute_result"
    }
   ],
   "source": [
    "df.shape,x.shape"
   ]
  },
  {
   "cell_type": "code",
   "execution_count": 52,
   "metadata": {},
   "outputs": [],
   "source": [
    "xtrain,xtest,ytrain,ytest = train_test_split(x,y,random_state=100,test_size=0.3)"
   ]
  },
  {
   "cell_type": "code",
   "execution_count": 53,
   "metadata": {},
   "outputs": [],
   "source": [
    "#scaling"
   ]
  },
  {
   "cell_type": "code",
   "execution_count": 54,
   "metadata": {},
   "outputs": [],
   "source": [
    "Scaler=StandardScaler()\n",
    "xtrain[[\"MonthlyCharges\",\"TotalCharges\",\"tenure\"]]=Scaler.fit_transform(xtrain[[\"MonthlyCharges\",\"TotalCharges\",\"tenure\"]])"
   ]
  },
  {
   "cell_type": "code",
   "execution_count": 55,
   "metadata": {},
   "outputs": [
    {
     "data": {
      "text/html": [
       "<div>\n",
       "<style scoped>\n",
       "    .dataframe tbody tr th:only-of-type {\n",
       "        vertical-align: middle;\n",
       "    }\n",
       "\n",
       "    .dataframe tbody tr th {\n",
       "        vertical-align: top;\n",
       "    }\n",
       "\n",
       "    .dataframe thead th {\n",
       "        text-align: right;\n",
       "    }\n",
       "</style>\n",
       "<table border=\"1\" class=\"dataframe\">\n",
       "  <thead>\n",
       "    <tr style=\"text-align: right;\">\n",
       "      <th></th>\n",
       "      <th>tenure</th>\n",
       "      <th>PhoneService</th>\n",
       "      <th>PaperlessBilling</th>\n",
       "      <th>MonthlyCharges</th>\n",
       "      <th>TotalCharges</th>\n",
       "      <th>SeniorCitizen</th>\n",
       "      <th>Partner</th>\n",
       "      <th>Dependents</th>\n",
       "      <th>Month-to-month</th>\n",
       "      <th>One year or +</th>\n",
       "      <th>...</th>\n",
       "      <th>Multipleline_Yes</th>\n",
       "      <th>DeviceProtection_Yes</th>\n",
       "      <th>TechSupport_Yes</th>\n",
       "      <th>StreamingTV_Yes</th>\n",
       "      <th>StreamingMovies_Yes</th>\n",
       "      <th>OnlineSecurity_Yes</th>\n",
       "      <th>InternetService_DSL</th>\n",
       "      <th>InternetService_Fiber optic</th>\n",
       "      <th>OnlineBackup_No</th>\n",
       "      <th>OnlineBackup_Yes</th>\n",
       "    </tr>\n",
       "  </thead>\n",
       "  <tbody>\n",
       "    <tr>\n",
       "      <th>877</th>\n",
       "      <td>0.754422</td>\n",
       "      <td>0</td>\n",
       "      <td>0</td>\n",
       "      <td>-0.145568</td>\n",
       "      <td>0.350018</td>\n",
       "      <td>0</td>\n",
       "      <td>0</td>\n",
       "      <td>1</td>\n",
       "      <td>0</td>\n",
       "      <td>1</td>\n",
       "      <td>...</td>\n",
       "      <td>0</td>\n",
       "      <td>1</td>\n",
       "      <td>1</td>\n",
       "      <td>1</td>\n",
       "      <td>1</td>\n",
       "      <td>1</td>\n",
       "      <td>1</td>\n",
       "      <td>0</td>\n",
       "      <td>1</td>\n",
       "      <td>0</td>\n",
       "    </tr>\n",
       "    <tr>\n",
       "      <th>5792</th>\n",
       "      <td>-0.710751</td>\n",
       "      <td>1</td>\n",
       "      <td>1</td>\n",
       "      <td>1.051796</td>\n",
       "      <td>-0.379542</td>\n",
       "      <td>1</td>\n",
       "      <td>0</td>\n",
       "      <td>0</td>\n",
       "      <td>1</td>\n",
       "      <td>0</td>\n",
       "      <td>...</td>\n",
       "      <td>0</td>\n",
       "      <td>1</td>\n",
       "      <td>1</td>\n",
       "      <td>0</td>\n",
       "      <td>1</td>\n",
       "      <td>1</td>\n",
       "      <td>0</td>\n",
       "      <td>1</td>\n",
       "      <td>1</td>\n",
       "      <td>0</td>\n",
       "    </tr>\n",
       "    <tr>\n",
       "      <th>5334</th>\n",
       "      <td>0.673024</td>\n",
       "      <td>1</td>\n",
       "      <td>1</td>\n",
       "      <td>1.437668</td>\n",
       "      <td>1.329780</td>\n",
       "      <td>0</td>\n",
       "      <td>1</td>\n",
       "      <td>1</td>\n",
       "      <td>0</td>\n",
       "      <td>0</td>\n",
       "      <td>...</td>\n",
       "      <td>1</td>\n",
       "      <td>1</td>\n",
       "      <td>1</td>\n",
       "      <td>1</td>\n",
       "      <td>1</td>\n",
       "      <td>0</td>\n",
       "      <td>0</td>\n",
       "      <td>1</td>\n",
       "      <td>0</td>\n",
       "      <td>1</td>\n",
       "    </tr>\n",
       "    <tr>\n",
       "      <th>878</th>\n",
       "      <td>1.120716</td>\n",
       "      <td>1</td>\n",
       "      <td>0</td>\n",
       "      <td>0.006794</td>\n",
       "      <td>0.775531</td>\n",
       "      <td>0</td>\n",
       "      <td>0</td>\n",
       "      <td>0</td>\n",
       "      <td>0</td>\n",
       "      <td>1</td>\n",
       "      <td>...</td>\n",
       "      <td>1</td>\n",
       "      <td>1</td>\n",
       "      <td>1</td>\n",
       "      <td>0</td>\n",
       "      <td>0</td>\n",
       "      <td>1</td>\n",
       "      <td>1</td>\n",
       "      <td>0</td>\n",
       "      <td>1</td>\n",
       "      <td>0</td>\n",
       "    </tr>\n",
       "    <tr>\n",
       "      <th>6578</th>\n",
       "      <td>-0.914247</td>\n",
       "      <td>1</td>\n",
       "      <td>0</td>\n",
       "      <td>0.298268</td>\n",
       "      <td>-0.703794</td>\n",
       "      <td>0</td>\n",
       "      <td>0</td>\n",
       "      <td>1</td>\n",
       "      <td>0</td>\n",
       "      <td>1</td>\n",
       "      <td>...</td>\n",
       "      <td>1</td>\n",
       "      <td>1</td>\n",
       "      <td>1</td>\n",
       "      <td>0</td>\n",
       "      <td>1</td>\n",
       "      <td>1</td>\n",
       "      <td>1</td>\n",
       "      <td>0</td>\n",
       "      <td>1</td>\n",
       "      <td>0</td>\n",
       "    </tr>\n",
       "  </tbody>\n",
       "</table>\n",
       "<p>5 rows × 24 columns</p>\n",
       "</div>"
      ],
      "text/plain": [
       "        tenure  PhoneService  PaperlessBilling  MonthlyCharges  TotalCharges  \\\n",
       "877   0.754422             0                 0       -0.145568      0.350018   \n",
       "5792 -0.710751             1                 1        1.051796     -0.379542   \n",
       "5334  0.673024             1                 1        1.437668      1.329780   \n",
       "878   1.120716             1                 0        0.006794      0.775531   \n",
       "6578 -0.914247             1                 0        0.298268     -0.703794   \n",
       "\n",
       "      SeniorCitizen  Partner  Dependents  Month-to-month  One year or +  ...  \\\n",
       "877               0        0           1               0              1  ...   \n",
       "5792              1        0           0               1              0  ...   \n",
       "5334              0        1           1               0              0  ...   \n",
       "878               0        0           0               0              1  ...   \n",
       "6578              0        0           1               0              1  ...   \n",
       "\n",
       "      Multipleline_Yes  DeviceProtection_Yes  TechSupport_Yes  \\\n",
       "877                  0                     1                1   \n",
       "5792                 0                     1                1   \n",
       "5334                 1                     1                1   \n",
       "878                  1                     1                1   \n",
       "6578                 1                     1                1   \n",
       "\n",
       "      StreamingTV_Yes  StreamingMovies_Yes  OnlineSecurity_Yes  \\\n",
       "877                 1                    1                   1   \n",
       "5792                0                    1                   1   \n",
       "5334                1                    1                   0   \n",
       "878                 0                    0                   1   \n",
       "6578                0                    1                   1   \n",
       "\n",
       "      InternetService_DSL  InternetService_Fiber optic  OnlineBackup_No  \\\n",
       "877                     1                            0                1   \n",
       "5792                    0                            1                1   \n",
       "5334                    0                            1                0   \n",
       "878                     1                            0                1   \n",
       "6578                    1                            0                1   \n",
       "\n",
       "      OnlineBackup_Yes  \n",
       "877                  0  \n",
       "5792                 0  \n",
       "5334                 1  \n",
       "878                  0  \n",
       "6578                 0  \n",
       "\n",
       "[5 rows x 24 columns]"
      ]
     },
     "execution_count": 55,
     "metadata": {},
     "output_type": "execute_result"
    }
   ],
   "source": [
    "xtrain.head()"
   ]
  },
  {
   "cell_type": "code",
   "execution_count": 56,
   "metadata": {},
   "outputs": [
    {
     "data": {
      "text/plain": [
       "<AxesSubplot:>"
      ]
     },
     "execution_count": 56,
     "metadata": {},
     "output_type": "execute_result"
    },
    {
     "data": {
      "image/png": "[encoded data removed]",
      "text/plain": [
       "<Figure size 1440x2160 with 2 Axes>"
      ]
     },
     "metadata": {
      "needs_background": "light"
     },
     "output_type": "display_data"
    }
   ],
   "source": [
    "plt.figure(figsize=(20,30))\n",
    "sns.heatmap(df.corr(),annot=True)"
   ]
  },
  {
   "cell_type": "markdown",
   "metadata": {},
   "source": [
    "## Feature selection using RFE"
   ]
  },
  {
   "cell_type": "code",
   "execution_count": 57,
   "metadata": {},
   "outputs": [],
   "source": [
    "from sklearn.linear_model import LogisticRegression\n",
    "from sklearn.feature_selection import RFE\n",
    "import statsmodels.api as sm"
   ]
  },
  {
   "cell_type": "code",
   "execution_count": 58,
   "metadata": {},
   "outputs": [],
   "source": [
    "lr= LogisticRegression()\n",
    "rfe= RFE(lr,15)\n",
    "rfe=rfe.fit(xtrain,ytrain)"
   ]
  },
  {
   "cell_type": "code",
   "execution_count": 59,
   "metadata": {},
   "outputs": [],
   "source": [
    "xtrain_col=xtrain.columns[rfe.support_]"
   ]
  },
  {
   "cell_type": "code",
   "execution_count": 60,
   "metadata": {},
   "outputs": [],
   "source": [
    "x_train= xtrain[xtrain_col]"
   ]
  },
  {
   "cell_type": "code",
   "execution_count": 61,
   "metadata": {},
   "outputs": [
    {
     "data": {
      "text/plain": [
       "(4930, 15)"
      ]
     },
     "execution_count": 61,
     "metadata": {},
     "output_type": "execute_result"
    }
   ],
   "source": [
    "x_train.shape"
   ]
  },
  {
   "cell_type": "code",
   "execution_count": 62,
   "metadata": {},
   "outputs": [
    {
     "data": {
      "text/html": [
       "<table class=\"simpletable\">\n",
       "<caption>Generalized Linear Model Regression Results</caption>\n",
       "<tr>\n",
       "  <th>Dep. Variable:</th>         <td>Churn</td>      <th>  No. Observations:  </th>  <td>  4930</td> \n",
       "</tr>\n",
       "<tr>\n",
       "  <th>Model:</th>                  <td>GLM</td>       <th>  Df Residuals:      </th>  <td>  4914</td> \n",
       "</tr>\n",
       "<tr>\n",
       "  <th>Model Family:</th>        <td>Binomial</td>     <th>  Df Model:          </th>  <td>    15</td> \n",
       "</tr>\n",
       "<tr>\n",
       "  <th>Link Function:</th>         <td>logit</td>      <th>  Scale:             </th> <td>  1.0000</td>\n",
       "</tr>\n",
       "<tr>\n",
       "  <th>Method:</th>                <td>IRLS</td>       <th>  Log-Likelihood:    </th> <td> -2013.9</td>\n",
       "</tr>\n",
       "<tr>\n",
       "  <th>Date:</th>            <td>Sat, 04 Jun 2022</td> <th>  Deviance:          </th> <td>  4027.8</td>\n",
       "</tr>\n",
       "<tr>\n",
       "  <th>Time:</th>                <td>13:28:36</td>     <th>  Pearson chi2:      </th> <td>5.83e+03</td>\n",
       "</tr>\n",
       "<tr>\n",
       "  <th>No. Iterations:</th>          <td>7</td>        <th>                     </th>     <td> </td>   \n",
       "</tr>\n",
       "<tr>\n",
       "  <th>Covariance Type:</th>     <td>nonrobust</td>    <th>                     </th>     <td> </td>   \n",
       "</tr>\n",
       "</table>\n",
       "<table class=\"simpletable\">\n",
       "<tr>\n",
       "               <td></td>                  <th>coef</th>     <th>std err</th>      <th>z</th>      <th>P>|z|</th>  <th>[0.025</th>    <th>0.975]</th>  \n",
       "</tr>\n",
       "<tr>\n",
       "  <th>const</th>                       <td>   -3.3967</td> <td>    0.264</td> <td>  -12.847</td> <td> 0.000</td> <td>   -3.915</td> <td>   -2.879</td>\n",
       "</tr>\n",
       "<tr>\n",
       "  <th>tenure</th>                      <td>   -1.3505</td> <td>    0.171</td> <td>   -7.887</td> <td> 0.000</td> <td>   -1.686</td> <td>   -1.015</td>\n",
       "</tr>\n",
       "<tr>\n",
       "  <th>PhoneService</th>                <td>   -0.6247</td> <td>    0.158</td> <td>   -3.957</td> <td> 0.000</td> <td>   -0.934</td> <td>   -0.315</td>\n",
       "</tr>\n",
       "<tr>\n",
       "  <th>PaperlessBilling</th>            <td>    0.3606</td> <td>    0.090</td> <td>    4.017</td> <td> 0.000</td> <td>    0.185</td> <td>    0.536</td>\n",
       "</tr>\n",
       "<tr>\n",
       "  <th>TotalCharges</th>                <td>    0.6289</td> <td>    0.180</td> <td>    3.493</td> <td> 0.000</td> <td>    0.276</td> <td>    0.982</td>\n",
       "</tr>\n",
       "<tr>\n",
       "  <th>SeniorCitizen</th>               <td>    0.3321</td> <td>    0.101</td> <td>    3.304</td> <td> 0.001</td> <td>    0.135</td> <td>    0.529</td>\n",
       "</tr>\n",
       "<tr>\n",
       "  <th>Month-to-month</th>              <td>    1.3641</td> <td>    0.206</td> <td>    6.612</td> <td> 0.000</td> <td>    0.960</td> <td>    1.768</td>\n",
       "</tr>\n",
       "<tr>\n",
       "  <th>One year or +</th>               <td>    0.6775</td> <td>    0.208</td> <td>    3.260</td> <td> 0.001</td> <td>    0.270</td> <td>    1.085</td>\n",
       "</tr>\n",
       "<tr>\n",
       "  <th>Electronic check</th>            <td>    0.3639</td> <td>    0.083</td> <td>    4.365</td> <td> 0.000</td> <td>    0.200</td> <td>    0.527</td>\n",
       "</tr>\n",
       "<tr>\n",
       "  <th>Multipleline_Yes</th>            <td>    0.3011</td> <td>    0.096</td> <td>    3.141</td> <td> 0.002</td> <td>    0.113</td> <td>    0.489</td>\n",
       "</tr>\n",
       "<tr>\n",
       "  <th>TechSupport_Yes</th>             <td>   -0.5047</td> <td>    0.104</td> <td>   -4.859</td> <td> 0.000</td> <td>   -0.708</td> <td>   -0.301</td>\n",
       "</tr>\n",
       "<tr>\n",
       "  <th>StreamingTV_Yes</th>             <td>    0.2300</td> <td>    0.095</td> <td>    2.424</td> <td> 0.015</td> <td>    0.044</td> <td>    0.416</td>\n",
       "</tr>\n",
       "<tr>\n",
       "  <th>OnlineSecurity_Yes</th>          <td>   -0.3063</td> <td>    0.102</td> <td>   -3.011</td> <td> 0.003</td> <td>   -0.506</td> <td>   -0.107</td>\n",
       "</tr>\n",
       "<tr>\n",
       "  <th>InternetService_Fiber optic</th> <td>    0.7770</td> <td>    0.119</td> <td>    6.551</td> <td> 0.000</td> <td>    0.545</td> <td>    1.009</td>\n",
       "</tr>\n",
       "<tr>\n",
       "  <th>OnlineBackup_No</th>             <td>    0.9371</td> <td>    0.163</td> <td>    5.732</td> <td> 0.000</td> <td>    0.617</td> <td>    1.258</td>\n",
       "</tr>\n",
       "<tr>\n",
       "  <th>OnlineBackup_Yes</th>            <td>    0.6584</td> <td>    0.179</td> <td>    3.687</td> <td> 0.000</td> <td>    0.308</td> <td>    1.008</td>\n",
       "</tr>\n",
       "</table>"
      ],
      "text/plain": [
       "<class 'statsmodels.iolib.summary.Summary'>\n",
       "\"\"\"\n",
       "                 Generalized Linear Model Regression Results                  \n",
       "==============================================================================\n",
       "Dep. Variable:                  Churn   No. Observations:                 4930\n",
       "Model:                            GLM   Df Residuals:                     4914\n",
       "Model Family:                Binomial   Df Model:                           15\n",
       "Link Function:                  logit   Scale:                          1.0000\n",
       "Method:                          IRLS   Log-Likelihood:                -2013.9\n",
       "Date:                Sat, 04 Jun 2022   Deviance:                       4027.8\n",
       "Time:                        13:28:36   Pearson chi2:                 5.83e+03\n",
       "No. Iterations:                     7                                         \n",
       "Covariance Type:            nonrobust                                         \n",
       "===============================================================================================\n",
       "                                  coef    std err          z      P>|z|      [0.025      0.975]\n",
       "-----------------------------------------------------------------------------------------------\n",
       "const                          -3.3967      0.264    -12.847      0.000      -3.915      -2.879\n",
       "tenure                         -1.3505      0.171     -7.887      0.000      -1.686      -1.015\n",
       "PhoneService                   -0.6247      0.158     -3.957      0.000      -0.934      -0.315\n",
       "PaperlessBilling                0.3606      0.090      4.017      0.000       0.185       0.536\n",
       "TotalCharges                    0.6289      0.180      3.493      0.000       0.276       0.982\n",
       "SeniorCitizen                   0.3321      0.101      3.304      0.001       0.135       0.529\n",
       "Month-to-month                  1.3641      0.206      6.612      0.000       0.960       1.768\n",
       "One year or +                   0.6775      0.208      3.260      0.001       0.270       1.085\n",
       "Electronic check                0.3639      0.083      4.365      0.000       0.200       0.527\n",
       "Multipleline_Yes                0.3011      0.096      3.141      0.002       0.113       0.489\n",
       "TechSupport_Yes                -0.5047      0.104     -4.859      0.000      -0.708      -0.301\n",
       "StreamingTV_Yes                 0.2300      0.095      2.424      0.015       0.044       0.416\n",
       "OnlineSecurity_Yes             -0.3063      0.102     -3.011      0.003      -0.506      -0.107\n",
       "InternetService_Fiber optic     0.7770      0.119      6.551      0.000       0.545       1.009\n",
       "OnlineBackup_No                 0.9371      0.163      5.732      0.000       0.617       1.258\n",
       "OnlineBackup_Yes                0.6584      0.179      3.687      0.000       0.308       1.008\n",
       "===============================================================================================\n",
       "\"\"\""
      ]
     },
     "execution_count": 62,
     "metadata": {},
     "output_type": "execute_result"
    }
   ],
   "source": [
    "#building model using GLM\n",
    "model= sm.GLM(ytrain,(sm.add_constant(x_train)),family= sm.families.Binomial())\n",
    "model.fit().summary()"
   ]
  },
  {
   "cell_type": "code",
   "execution_count": 63,
   "metadata": {},
   "outputs": [
    {
     "data": {
      "text/html": [
       "<div>\n",
       "<style scoped>\n",
       "    .dataframe tbody tr th:only-of-type {\n",
       "        vertical-align: middle;\n",
       "    }\n",
       "\n",
       "    .dataframe tbody tr th {\n",
       "        vertical-align: top;\n",
       "    }\n",
       "\n",
       "    .dataframe thead th {\n",
       "        text-align: right;\n",
       "    }\n",
       "</style>\n",
       "<table border=\"1\" class=\"dataframe\">\n",
       "  <thead>\n",
       "    <tr style=\"text-align: right;\">\n",
       "      <th></th>\n",
       "      <th>Features</th>\n",
       "      <th>VIF</th>\n",
       "    </tr>\n",
       "  </thead>\n",
       "  <tbody>\n",
       "    <tr>\n",
       "      <th>3</th>\n",
       "      <td>TotalCharges</td>\n",
       "      <td>6.79</td>\n",
       "    </tr>\n",
       "    <tr>\n",
       "      <th>5</th>\n",
       "      <td>Month-to-month</td>\n",
       "      <td>6.76</td>\n",
       "    </tr>\n",
       "    <tr>\n",
       "      <th>1</th>\n",
       "      <td>PhoneService</td>\n",
       "      <td>5.92</td>\n",
       "    </tr>\n",
       "    <tr>\n",
       "      <th>13</th>\n",
       "      <td>OnlineBackup_No</td>\n",
       "      <td>5.42</td>\n",
       "    </tr>\n",
       "    <tr>\n",
       "      <th>14</th>\n",
       "      <td>OnlineBackup_Yes</td>\n",
       "      <td>5.05</td>\n",
       "    </tr>\n",
       "    <tr>\n",
       "      <th>0</th>\n",
       "      <td>tenure</td>\n",
       "      <td>4.78</td>\n",
       "    </tr>\n",
       "    <tr>\n",
       "      <th>12</th>\n",
       "      <td>InternetService_Fiber optic</td>\n",
       "      <td>4.19</td>\n",
       "    </tr>\n",
       "    <tr>\n",
       "      <th>2</th>\n",
       "      <td>PaperlessBilling</td>\n",
       "      <td>2.95</td>\n",
       "    </tr>\n",
       "    <tr>\n",
       "      <th>8</th>\n",
       "      <td>Multipleline_Yes</td>\n",
       "      <td>2.52</td>\n",
       "    </tr>\n",
       "    <tr>\n",
       "      <th>10</th>\n",
       "      <td>StreamingTV_Yes</td>\n",
       "      <td>2.51</td>\n",
       "    </tr>\n",
       "    <tr>\n",
       "      <th>9</th>\n",
       "      <td>TechSupport_Yes</td>\n",
       "      <td>2.16</td>\n",
       "    </tr>\n",
       "    <tr>\n",
       "      <th>11</th>\n",
       "      <td>OnlineSecurity_Yes</td>\n",
       "      <td>2.06</td>\n",
       "    </tr>\n",
       "    <tr>\n",
       "      <th>7</th>\n",
       "      <td>Electronic check</td>\n",
       "      <td>1.97</td>\n",
       "    </tr>\n",
       "    <tr>\n",
       "      <th>6</th>\n",
       "      <td>One year or +</td>\n",
       "      <td>1.93</td>\n",
       "    </tr>\n",
       "    <tr>\n",
       "      <th>4</th>\n",
       "      <td>SeniorCitizen</td>\n",
       "      <td>1.34</td>\n",
       "    </tr>\n",
       "  </tbody>\n",
       "</table>\n",
       "</div>"
      ],
      "text/plain": [
       "                       Features   VIF\n",
       "3                  TotalCharges  6.79\n",
       "5                Month-to-month  6.76\n",
       "1                  PhoneService  5.92\n",
       "13              OnlineBackup_No  5.42\n",
       "14             OnlineBackup_Yes  5.05\n",
       "0                        tenure  4.78\n",
       "12  InternetService_Fiber optic  4.19\n",
       "2              PaperlessBilling  2.95\n",
       "8              Multipleline_Yes  2.52\n",
       "10              StreamingTV_Yes  2.51\n",
       "9               TechSupport_Yes  2.16\n",
       "11           OnlineSecurity_Yes  2.06\n",
       "7              Electronic check  1.97\n",
       "6                 One year or +  1.93\n",
       "4                 SeniorCitizen  1.34"
      ]
     },
     "execution_count": 63,
     "metadata": {},
     "output_type": "execute_result"
    }
   ],
   "source": [
    "from statsmodels.stats.outliers_influence import variance_inflation_factor\n",
    "vif = pd.DataFrame()\n",
    "vif['Features'] = x_train.columns\n",
    "vif['VIF'] = [variance_inflation_factor(x_train.values, i) for i in range(x_train.shape[1])]\n",
    "vif['VIF'] = round(vif['VIF'], 2)\n",
    "vif = vif.sort_values(by = \"VIF\", ascending = False)\n",
    "vif"
   ]
  },
  {
   "cell_type": "code",
   "execution_count": 64,
   "metadata": {},
   "outputs": [],
   "source": [
    "x_train.drop(\"Month-to-month\", axis=1, inplace=True)"
   ]
  },
  {
   "cell_type": "code",
   "execution_count": 65,
   "metadata": {},
   "outputs": [
    {
     "data": {
      "text/html": [
       "<div>\n",
       "<style scoped>\n",
       "    .dataframe tbody tr th:only-of-type {\n",
       "        vertical-align: middle;\n",
       "    }\n",
       "\n",
       "    .dataframe tbody tr th {\n",
       "        vertical-align: top;\n",
       "    }\n",
       "\n",
       "    .dataframe thead th {\n",
       "        text-align: right;\n",
       "    }\n",
       "</style>\n",
       "<table border=\"1\" class=\"dataframe\">\n",
       "  <thead>\n",
       "    <tr style=\"text-align: right;\">\n",
       "      <th></th>\n",
       "      <th>tenure</th>\n",
       "      <th>PhoneService</th>\n",
       "      <th>PaperlessBilling</th>\n",
       "      <th>TotalCharges</th>\n",
       "      <th>SeniorCitizen</th>\n",
       "      <th>One year or +</th>\n",
       "      <th>Electronic check</th>\n",
       "      <th>Multipleline_Yes</th>\n",
       "      <th>TechSupport_Yes</th>\n",
       "      <th>StreamingTV_Yes</th>\n",
       "      <th>OnlineSecurity_Yes</th>\n",
       "      <th>InternetService_Fiber optic</th>\n",
       "      <th>OnlineBackup_No</th>\n",
       "      <th>OnlineBackup_Yes</th>\n",
       "    </tr>\n",
       "  </thead>\n",
       "  <tbody>\n",
       "    <tr>\n",
       "      <th>877</th>\n",
       "      <td>0.754422</td>\n",
       "      <td>0</td>\n",
       "      <td>0</td>\n",
       "      <td>0.350018</td>\n",
       "      <td>0</td>\n",
       "      <td>1</td>\n",
       "      <td>0</td>\n",
       "      <td>0</td>\n",
       "      <td>1</td>\n",
       "      <td>1</td>\n",
       "      <td>1</td>\n",
       "      <td>0</td>\n",
       "      <td>1</td>\n",
       "      <td>0</td>\n",
       "    </tr>\n",
       "    <tr>\n",
       "      <th>5792</th>\n",
       "      <td>-0.710751</td>\n",
       "      <td>1</td>\n",
       "      <td>1</td>\n",
       "      <td>-0.379542</td>\n",
       "      <td>1</td>\n",
       "      <td>0</td>\n",
       "      <td>0</td>\n",
       "      <td>0</td>\n",
       "      <td>1</td>\n",
       "      <td>0</td>\n",
       "      <td>1</td>\n",
       "      <td>1</td>\n",
       "      <td>1</td>\n",
       "      <td>0</td>\n",
       "    </tr>\n",
       "    <tr>\n",
       "      <th>5334</th>\n",
       "      <td>0.673024</td>\n",
       "      <td>1</td>\n",
       "      <td>1</td>\n",
       "      <td>1.329780</td>\n",
       "      <td>0</td>\n",
       "      <td>0</td>\n",
       "      <td>0</td>\n",
       "      <td>1</td>\n",
       "      <td>1</td>\n",
       "      <td>1</td>\n",
       "      <td>0</td>\n",
       "      <td>1</td>\n",
       "      <td>0</td>\n",
       "      <td>1</td>\n",
       "    </tr>\n",
       "    <tr>\n",
       "      <th>878</th>\n",
       "      <td>1.120716</td>\n",
       "      <td>1</td>\n",
       "      <td>0</td>\n",
       "      <td>0.775531</td>\n",
       "      <td>0</td>\n",
       "      <td>1</td>\n",
       "      <td>1</td>\n",
       "      <td>1</td>\n",
       "      <td>1</td>\n",
       "      <td>0</td>\n",
       "      <td>1</td>\n",
       "      <td>0</td>\n",
       "      <td>1</td>\n",
       "      <td>0</td>\n",
       "    </tr>\n",
       "    <tr>\n",
       "      <th>6578</th>\n",
       "      <td>-0.914247</td>\n",
       "      <td>1</td>\n",
       "      <td>0</td>\n",
       "      <td>-0.703794</td>\n",
       "      <td>0</td>\n",
       "      <td>1</td>\n",
       "      <td>0</td>\n",
       "      <td>1</td>\n",
       "      <td>1</td>\n",
       "      <td>0</td>\n",
       "      <td>1</td>\n",
       "      <td>0</td>\n",
       "      <td>1</td>\n",
       "      <td>0</td>\n",
       "    </tr>\n",
       "  </tbody>\n",
       "</table>\n",
       "</div>"
      ],
      "text/plain": [
       "        tenure  PhoneService  PaperlessBilling  TotalCharges  SeniorCitizen  \\\n",
       "877   0.754422             0                 0      0.350018              0   \n",
       "5792 -0.710751             1                 1     -0.379542              1   \n",
       "5334  0.673024             1                 1      1.329780              0   \n",
       "878   1.120716             1                 0      0.775531              0   \n",
       "6578 -0.914247             1                 0     -0.703794              0   \n",
       "\n",
       "      One year or +  Electronic check  Multipleline_Yes  TechSupport_Yes  \\\n",
       "877               1                 0                 0                1   \n",
       "5792              0                 0                 0                1   \n",
       "5334              0                 0                 1                1   \n",
       "878               1                 1                 1                1   \n",
       "6578              1                 0                 1                1   \n",
       "\n",
       "      StreamingTV_Yes  OnlineSecurity_Yes  InternetService_Fiber optic  \\\n",
       "877                 1                   1                            0   \n",
       "5792                0                   1                            1   \n",
       "5334                1                   0                            1   \n",
       "878                 0                   1                            0   \n",
       "6578                0                   1                            0   \n",
       "\n",
       "      OnlineBackup_No  OnlineBackup_Yes  \n",
       "877                 1                 0  \n",
       "5792                1                 0  \n",
       "5334                0                 1  \n",
       "878                 1                 0  \n",
       "6578                1                 0  "
      ]
     },
     "execution_count": 65,
     "metadata": {},
     "output_type": "execute_result"
    }
   ],
   "source": [
    "x_train.head()"
   ]
  },
  {
   "cell_type": "code",
   "execution_count": 66,
   "metadata": {},
   "outputs": [
    {
     "data": {
      "text/html": [
       "<table class=\"simpletable\">\n",
       "<caption>Generalized Linear Model Regression Results</caption>\n",
       "<tr>\n",
       "  <th>Dep. Variable:</th>         <td>Churn</td>      <th>  No. Observations:  </th>  <td>  4930</td> \n",
       "</tr>\n",
       "<tr>\n",
       "  <th>Model:</th>                  <td>GLM</td>       <th>  Df Residuals:      </th>  <td>  4915</td> \n",
       "</tr>\n",
       "<tr>\n",
       "  <th>Model Family:</th>        <td>Binomial</td>     <th>  Df Model:          </th>  <td>    14</td> \n",
       "</tr>\n",
       "<tr>\n",
       "  <th>Link Function:</th>         <td>logit</td>      <th>  Scale:             </th> <td>  1.0000</td>\n",
       "</tr>\n",
       "<tr>\n",
       "  <th>Method:</th>                <td>IRLS</td>       <th>  Log-Likelihood:    </th> <td> -2040.2</td>\n",
       "</tr>\n",
       "<tr>\n",
       "  <th>Date:</th>            <td>Sat, 04 Jun 2022</td> <th>  Deviance:          </th> <td>  4080.3</td>\n",
       "</tr>\n",
       "<tr>\n",
       "  <th>Time:</th>                <td>13:28:36</td>     <th>  Pearson chi2:      </th> <td>5.30e+03</td>\n",
       "</tr>\n",
       "<tr>\n",
       "  <th>No. Iterations:</th>          <td>6</td>        <th>                     </th>     <td> </td>   \n",
       "</tr>\n",
       "<tr>\n",
       "  <th>Covariance Type:</th>     <td>nonrobust</td>    <th>                     </th>     <td> </td>   \n",
       "</tr>\n",
       "</table>\n",
       "<table class=\"simpletable\">\n",
       "<tr>\n",
       "               <td></td>                  <th>coef</th>     <th>std err</th>      <th>z</th>      <th>P>|z|</th>  <th>[0.025</th>    <th>0.975]</th>  \n",
       "</tr>\n",
       "<tr>\n",
       "  <th>const</th>                       <td>   -2.4836</td> <td>    0.211</td> <td>  -11.785</td> <td> 0.000</td> <td>   -2.897</td> <td>   -2.071</td>\n",
       "</tr>\n",
       "<tr>\n",
       "  <th>tenure</th>                      <td>   -1.4542</td> <td>    0.158</td> <td>   -9.181</td> <td> 0.000</td> <td>   -1.765</td> <td>   -1.144</td>\n",
       "</tr>\n",
       "<tr>\n",
       "  <th>PhoneService</th>                <td>   -0.6211</td> <td>    0.157</td> <td>   -3.966</td> <td> 0.000</td> <td>   -0.928</td> <td>   -0.314</td>\n",
       "</tr>\n",
       "<tr>\n",
       "  <th>PaperlessBilling</th>            <td>    0.4011</td> <td>    0.089</td> <td>    4.490</td> <td> 0.000</td> <td>    0.226</td> <td>    0.576</td>\n",
       "</tr>\n",
       "<tr>\n",
       "  <th>TotalCharges</th>                <td>    0.5185</td> <td>    0.166</td> <td>    3.115</td> <td> 0.002</td> <td>    0.192</td> <td>    0.845</td>\n",
       "</tr>\n",
       "<tr>\n",
       "  <th>SeniorCitizen</th>               <td>    0.4047</td> <td>    0.101</td> <td>    4.021</td> <td> 0.000</td> <td>    0.207</td> <td>    0.602</td>\n",
       "</tr>\n",
       "<tr>\n",
       "  <th>One year or +</th>               <td>   -0.3576</td> <td>    0.120</td> <td>   -2.982</td> <td> 0.003</td> <td>   -0.593</td> <td>   -0.123</td>\n",
       "</tr>\n",
       "<tr>\n",
       "  <th>Electronic check</th>            <td>    0.4217</td> <td>    0.083</td> <td>    5.058</td> <td> 0.000</td> <td>    0.258</td> <td>    0.585</td>\n",
       "</tr>\n",
       "<tr>\n",
       "  <th>Multipleline_Yes</th>            <td>    0.3194</td> <td>    0.096</td> <td>    3.339</td> <td> 0.001</td> <td>    0.132</td> <td>    0.507</td>\n",
       "</tr>\n",
       "<tr>\n",
       "  <th>TechSupport_Yes</th>             <td>   -0.6146</td> <td>    0.102</td> <td>   -5.998</td> <td> 0.000</td> <td>   -0.815</td> <td>   -0.414</td>\n",
       "</tr>\n",
       "<tr>\n",
       "  <th>StreamingTV_Yes</th>             <td>    0.2043</td> <td>    0.095</td> <td>    2.148</td> <td> 0.032</td> <td>    0.018</td> <td>    0.391</td>\n",
       "</tr>\n",
       "<tr>\n",
       "  <th>OnlineSecurity_Yes</th>          <td>   -0.3635</td> <td>    0.101</td> <td>   -3.596</td> <td> 0.000</td> <td>   -0.562</td> <td>   -0.165</td>\n",
       "</tr>\n",
       "<tr>\n",
       "  <th>InternetService_Fiber optic</th> <td>    0.8597</td> <td>    0.117</td> <td>    7.340</td> <td> 0.000</td> <td>    0.630</td> <td>    1.089</td>\n",
       "</tr>\n",
       "<tr>\n",
       "  <th>OnlineBackup_No</th>             <td>    1.1153</td> <td>    0.162</td> <td>    6.901</td> <td> 0.000</td> <td>    0.799</td> <td>    1.432</td>\n",
       "</tr>\n",
       "<tr>\n",
       "  <th>OnlineBackup_Yes</th>            <td>    0.8404</td> <td>    0.177</td> <td>    4.761</td> <td> 0.000</td> <td>    0.494</td> <td>    1.186</td>\n",
       "</tr>\n",
       "</table>"
      ],
      "text/plain": [
       "<class 'statsmodels.iolib.summary.Summary'>\n",
       "\"\"\"\n",
       "                 Generalized Linear Model Regression Results                  \n",
       "==============================================================================\n",
       "Dep. Variable:                  Churn   No. Observations:                 4930\n",
       "Model:                            GLM   Df Residuals:                     4915\n",
       "Model Family:                Binomial   Df Model:                           14\n",
       "Link Function:                  logit   Scale:                          1.0000\n",
       "Method:                          IRLS   Log-Likelihood:                -2040.2\n",
       "Date:                Sat, 04 Jun 2022   Deviance:                       4080.3\n",
       "Time:                        13:28:36   Pearson chi2:                 5.30e+03\n",
       "No. Iterations:                     6                                         \n",
       "Covariance Type:            nonrobust                                         \n",
       "===============================================================================================\n",
       "                                  coef    std err          z      P>|z|      [0.025      0.975]\n",
       "-----------------------------------------------------------------------------------------------\n",
       "const                          -2.4836      0.211    -11.785      0.000      -2.897      -2.071\n",
       "tenure                         -1.4542      0.158     -9.181      0.000      -1.765      -1.144\n",
       "PhoneService                   -0.6211      0.157     -3.966      0.000      -0.928      -0.314\n",
       "PaperlessBilling                0.4011      0.089      4.490      0.000       0.226       0.576\n",
       "TotalCharges                    0.5185      0.166      3.115      0.002       0.192       0.845\n",
       "SeniorCitizen                   0.4047      0.101      4.021      0.000       0.207       0.602\n",
       "One year or +                  -0.3576      0.120     -2.982      0.003      -0.593      -0.123\n",
       "Electronic check                0.4217      0.083      5.058      0.000       0.258       0.585\n",
       "Multipleline_Yes                0.3194      0.096      3.339      0.001       0.132       0.507\n",
       "TechSupport_Yes                -0.6146      0.102     -5.998      0.000      -0.815      -0.414\n",
       "StreamingTV_Yes                 0.2043      0.095      2.148      0.032       0.018       0.391\n",
       "OnlineSecurity_Yes             -0.3635      0.101     -3.596      0.000      -0.562      -0.165\n",
       "InternetService_Fiber optic     0.8597      0.117      7.340      0.000       0.630       1.089\n",
       "OnlineBackup_No                 1.1153      0.162      6.901      0.000       0.799       1.432\n",
       "OnlineBackup_Yes                0.8404      0.177      4.761      0.000       0.494       1.186\n",
       "===============================================================================================\n",
       "\"\"\""
      ]
     },
     "execution_count": 66,
     "metadata": {},
     "output_type": "execute_result"
    }
   ],
   "source": [
    "#model building 2\n",
    "\n",
    "model2=sm.GLM(ytrain,(sm.add_constant(x_train)), family = sm.families.Binomial())\n",
    "model2.fit().summary()"
   ]
  },
  {
   "cell_type": "code",
   "execution_count": 67,
   "metadata": {},
   "outputs": [
    {
     "data": {
      "text/html": [
       "<div>\n",
       "<style scoped>\n",
       "    .dataframe tbody tr th:only-of-type {\n",
       "        vertical-align: middle;\n",
       "    }\n",
       "\n",
       "    .dataframe tbody tr th {\n",
       "        vertical-align: top;\n",
       "    }\n",
       "\n",
       "    .dataframe thead th {\n",
       "        text-align: right;\n",
       "    }\n",
       "</style>\n",
       "<table border=\"1\" class=\"dataframe\">\n",
       "  <thead>\n",
       "    <tr style=\"text-align: right;\">\n",
       "      <th></th>\n",
       "      <th>Features</th>\n",
       "      <th>VIF</th>\n",
       "    </tr>\n",
       "  </thead>\n",
       "  <tbody>\n",
       "    <tr>\n",
       "      <th>3</th>\n",
       "      <td>TotalCharges</td>\n",
       "      <td>6.61</td>\n",
       "    </tr>\n",
       "    <tr>\n",
       "      <th>1</th>\n",
       "      <td>PhoneService</td>\n",
       "      <td>5.17</td>\n",
       "    </tr>\n",
       "    <tr>\n",
       "      <th>12</th>\n",
       "      <td>OnlineBackup_No</td>\n",
       "      <td>4.48</td>\n",
       "    </tr>\n",
       "    <tr>\n",
       "      <th>0</th>\n",
       "      <td>tenure</td>\n",
       "      <td>4.44</td>\n",
       "    </tr>\n",
       "    <tr>\n",
       "      <th>13</th>\n",
       "      <td>OnlineBackup_Yes</td>\n",
       "      <td>4.19</td>\n",
       "    </tr>\n",
       "    <tr>\n",
       "      <th>11</th>\n",
       "      <td>InternetService_Fiber optic</td>\n",
       "      <td>4.17</td>\n",
       "    </tr>\n",
       "    <tr>\n",
       "      <th>2</th>\n",
       "      <td>PaperlessBilling</td>\n",
       "      <td>2.91</td>\n",
       "    </tr>\n",
       "    <tr>\n",
       "      <th>7</th>\n",
       "      <td>Multipleline_Yes</td>\n",
       "      <td>2.52</td>\n",
       "    </tr>\n",
       "    <tr>\n",
       "      <th>9</th>\n",
       "      <td>StreamingTV_Yes</td>\n",
       "      <td>2.51</td>\n",
       "    </tr>\n",
       "    <tr>\n",
       "      <th>8</th>\n",
       "      <td>TechSupport_Yes</td>\n",
       "      <td>2.13</td>\n",
       "    </tr>\n",
       "    <tr>\n",
       "      <th>10</th>\n",
       "      <td>OnlineSecurity_Yes</td>\n",
       "      <td>2.05</td>\n",
       "    </tr>\n",
       "    <tr>\n",
       "      <th>6</th>\n",
       "      <td>Electronic check</td>\n",
       "      <td>1.95</td>\n",
       "    </tr>\n",
       "    <tr>\n",
       "      <th>4</th>\n",
       "      <td>SeniorCitizen</td>\n",
       "      <td>1.32</td>\n",
       "    </tr>\n",
       "    <tr>\n",
       "      <th>5</th>\n",
       "      <td>One year or +</td>\n",
       "      <td>1.32</td>\n",
       "    </tr>\n",
       "  </tbody>\n",
       "</table>\n",
       "</div>"
      ],
      "text/plain": [
       "                       Features   VIF\n",
       "3                  TotalCharges  6.61\n",
       "1                  PhoneService  5.17\n",
       "12              OnlineBackup_No  4.48\n",
       "0                        tenure  4.44\n",
       "13             OnlineBackup_Yes  4.19\n",
       "11  InternetService_Fiber optic  4.17\n",
       "2              PaperlessBilling  2.91\n",
       "7              Multipleline_Yes  2.52\n",
       "9               StreamingTV_Yes  2.51\n",
       "8               TechSupport_Yes  2.13\n",
       "10           OnlineSecurity_Yes  2.05\n",
       "6              Electronic check  1.95\n",
       "4                 SeniorCitizen  1.32\n",
       "5                 One year or +  1.32"
      ]
     },
     "execution_count": 67,
     "metadata": {},
     "output_type": "execute_result"
    }
   ],
   "source": [
    "vif = pd.DataFrame()\n",
    "vif['Features'] = x_train.columns\n",
    "vif['VIF'] = [variance_inflation_factor(x_train.values, i) for i in range(x_train.shape[1])]\n",
    "vif['VIF'] = round(vif['VIF'], 2)\n",
    "vif = vif.sort_values(by = \"VIF\", ascending = False)\n",
    "vif"
   ]
  },
  {
   "cell_type": "code",
   "execution_count": 68,
   "metadata": {},
   "outputs": [],
   "source": [
    "x_train.drop(\"TotalCharges\",axis=1, inplace=True)"
   ]
  },
  {
   "cell_type": "code",
   "execution_count": 69,
   "metadata": {},
   "outputs": [
    {
     "data": {
      "text/html": [
       "<table class=\"simpletable\">\n",
       "<caption>Generalized Linear Model Regression Results</caption>\n",
       "<tr>\n",
       "  <th>Dep. Variable:</th>         <td>Churn</td>      <th>  No. Observations:  </th>  <td>  4930</td> \n",
       "</tr>\n",
       "<tr>\n",
       "  <th>Model:</th>                  <td>GLM</td>       <th>  Df Residuals:      </th>  <td>  4916</td> \n",
       "</tr>\n",
       "<tr>\n",
       "  <th>Model Family:</th>        <td>Binomial</td>     <th>  Df Model:          </th>  <td>    13</td> \n",
       "</tr>\n",
       "<tr>\n",
       "  <th>Link Function:</th>         <td>logit</td>      <th>  Scale:             </th> <td>  1.0000</td>\n",
       "</tr>\n",
       "<tr>\n",
       "  <th>Method:</th>                <td>IRLS</td>       <th>  Log-Likelihood:    </th> <td> -2045.2</td>\n",
       "</tr>\n",
       "<tr>\n",
       "  <th>Date:</th>            <td>Sat, 04 Jun 2022</td> <th>  Deviance:          </th> <td>  4090.4</td>\n",
       "</tr>\n",
       "<tr>\n",
       "  <th>Time:</th>                <td>13:28:37</td>     <th>  Pearson chi2:      </th> <td>4.98e+03</td>\n",
       "</tr>\n",
       "<tr>\n",
       "  <th>No. Iterations:</th>          <td>6</td>        <th>                     </th>     <td> </td>   \n",
       "</tr>\n",
       "<tr>\n",
       "  <th>Covariance Type:</th>     <td>nonrobust</td>    <th>                     </th>     <td> </td>   \n",
       "</tr>\n",
       "</table>\n",
       "<table class=\"simpletable\">\n",
       "<tr>\n",
       "               <td></td>                  <th>coef</th>     <th>std err</th>      <th>z</th>      <th>P>|z|</th>  <th>[0.025</th>    <th>0.975]</th>  \n",
       "</tr>\n",
       "<tr>\n",
       "  <th>const</th>                       <td>   -2.6819</td> <td>    0.199</td> <td>  -13.463</td> <td> 0.000</td> <td>   -3.072</td> <td>   -2.292</td>\n",
       "</tr>\n",
       "<tr>\n",
       "  <th>tenure</th>                      <td>   -1.0090</td> <td>    0.060</td> <td>  -16.946</td> <td> 0.000</td> <td>   -1.126</td> <td>   -0.892</td>\n",
       "</tr>\n",
       "<tr>\n",
       "  <th>PhoneService</th>                <td>   -0.5302</td> <td>    0.151</td> <td>   -3.502</td> <td> 0.000</td> <td>   -0.827</td> <td>   -0.233</td>\n",
       "</tr>\n",
       "<tr>\n",
       "  <th>PaperlessBilling</th>            <td>    0.3960</td> <td>    0.089</td> <td>    4.443</td> <td> 0.000</td> <td>    0.221</td> <td>    0.571</td>\n",
       "</tr>\n",
       "<tr>\n",
       "  <th>SeniorCitizen</th>               <td>    0.4068</td> <td>    0.101</td> <td>    4.025</td> <td> 0.000</td> <td>    0.209</td> <td>    0.605</td>\n",
       "</tr>\n",
       "<tr>\n",
       "  <th>One year or +</th>               <td>   -0.3555</td> <td>    0.119</td> <td>   -2.976</td> <td> 0.003</td> <td>   -0.590</td> <td>   -0.121</td>\n",
       "</tr>\n",
       "<tr>\n",
       "  <th>Electronic check</th>            <td>    0.4140</td> <td>    0.084</td> <td>    4.954</td> <td> 0.000</td> <td>    0.250</td> <td>    0.578</td>\n",
       "</tr>\n",
       "<tr>\n",
       "  <th>Multipleline_Yes</th>            <td>    0.3629</td> <td>    0.094</td> <td>    3.847</td> <td> 0.000</td> <td>    0.178</td> <td>    0.548</td>\n",
       "</tr>\n",
       "<tr>\n",
       "  <th>TechSupport_Yes</th>             <td>   -0.5644</td> <td>    0.101</td> <td>   -5.568</td> <td> 0.000</td> <td>   -0.763</td> <td>   -0.366</td>\n",
       "</tr>\n",
       "<tr>\n",
       "  <th>StreamingTV_Yes</th>             <td>    0.2945</td> <td>    0.091</td> <td>    3.252</td> <td> 0.001</td> <td>    0.117</td> <td>    0.472</td>\n",
       "</tr>\n",
       "<tr>\n",
       "  <th>OnlineSecurity_Yes</th>          <td>   -0.3211</td> <td>    0.100</td> <td>   -3.199</td> <td> 0.001</td> <td>   -0.518</td> <td>   -0.124</td>\n",
       "</tr>\n",
       "<tr>\n",
       "  <th>InternetService_Fiber optic</th> <td>    0.9901</td> <td>    0.109</td> <td>    9.093</td> <td> 0.000</td> <td>    0.777</td> <td>    1.204</td>\n",
       "</tr>\n",
       "<tr>\n",
       "  <th>OnlineBackup_No</th>             <td>    1.1553</td> <td>    0.161</td> <td>    7.176</td> <td> 0.000</td> <td>    0.840</td> <td>    1.471</td>\n",
       "</tr>\n",
       "<tr>\n",
       "  <th>OnlineBackup_Yes</th>            <td>    0.9299</td> <td>    0.174</td> <td>    5.356</td> <td> 0.000</td> <td>    0.590</td> <td>    1.270</td>\n",
       "</tr>\n",
       "</table>"
      ],
      "text/plain": [
       "<class 'statsmodels.iolib.summary.Summary'>\n",
       "\"\"\"\n",
       "                 Generalized Linear Model Regression Results                  \n",
       "==============================================================================\n",
       "Dep. Variable:                  Churn   No. Observations:                 4930\n",
       "Model:                            GLM   Df Residuals:                     4916\n",
       "Model Family:                Binomial   Df Model:                           13\n",
       "Link Function:                  logit   Scale:                          1.0000\n",
       "Method:                          IRLS   Log-Likelihood:                -2045.2\n",
       "Date:                Sat, 04 Jun 2022   Deviance:                       4090.4\n",
       "Time:                        13:28:37   Pearson chi2:                 4.98e+03\n",
       "No. Iterations:                     6                                         \n",
       "Covariance Type:            nonrobust                                         \n",
       "===============================================================================================\n",
       "                                  coef    std err          z      P>|z|      [0.025      0.975]\n",
       "-----------------------------------------------------------------------------------------------\n",
       "const                          -2.6819      0.199    -13.463      0.000      -3.072      -2.292\n",
       "tenure                         -1.0090      0.060    -16.946      0.000      -1.126      -0.892\n",
       "PhoneService                   -0.5302      0.151     -3.502      0.000      -0.827      -0.233\n",
       "PaperlessBilling                0.3960      0.089      4.443      0.000       0.221       0.571\n",
       "SeniorCitizen                   0.4068      0.101      4.025      0.000       0.209       0.605\n",
       "One year or +                  -0.3555      0.119     -2.976      0.003      -0.590      -0.121\n",
       "Electronic check                0.4140      0.084      4.954      0.000       0.250       0.578\n",
       "Multipleline_Yes                0.3629      0.094      3.847      0.000       0.178       0.548\n",
       "TechSupport_Yes                -0.5644      0.101     -5.568      0.000      -0.763      -0.366\n",
       "StreamingTV_Yes                 0.2945      0.091      3.252      0.001       0.117       0.472\n",
       "OnlineSecurity_Yes             -0.3211      0.100     -3.199      0.001      -0.518      -0.124\n",
       "InternetService_Fiber optic     0.9901      0.109      9.093      0.000       0.777       1.204\n",
       "OnlineBackup_No                 1.1553      0.161      7.176      0.000       0.840       1.471\n",
       "OnlineBackup_Yes                0.9299      0.174      5.356      0.000       0.590       1.270\n",
       "===============================================================================================\n",
       "\"\"\""
      ]
     },
     "execution_count": 69,
     "metadata": {},
     "output_type": "execute_result"
    }
   ],
   "source": [
    "model3=sm.GLM(ytrain,(sm.add_constant(x_train)), family=sm.families.Binomial())\n",
    "model3.fit().summary()"
   ]
  },
  {
   "cell_type": "code",
   "execution_count": 70,
   "metadata": {},
   "outputs": [
    {
     "data": {
      "text/html": [
       "<div>\n",
       "<style scoped>\n",
       "    .dataframe tbody tr th:only-of-type {\n",
       "        vertical-align: middle;\n",
       "    }\n",
       "\n",
       "    .dataframe tbody tr th {\n",
       "        vertical-align: top;\n",
       "    }\n",
       "\n",
       "    .dataframe thead th {\n",
       "        text-align: right;\n",
       "    }\n",
       "</style>\n",
       "<table border=\"1\" class=\"dataframe\">\n",
       "  <thead>\n",
       "    <tr style=\"text-align: right;\">\n",
       "      <th></th>\n",
       "      <th>Features</th>\n",
       "      <th>VIF</th>\n",
       "    </tr>\n",
       "  </thead>\n",
       "  <tbody>\n",
       "    <tr>\n",
       "      <th>11</th>\n",
       "      <td>OnlineBackup_No</td>\n",
       "      <td>4.41</td>\n",
       "    </tr>\n",
       "    <tr>\n",
       "      <th>12</th>\n",
       "      <td>OnlineBackup_Yes</td>\n",
       "      <td>4.18</td>\n",
       "    </tr>\n",
       "    <tr>\n",
       "      <th>1</th>\n",
       "      <td>PhoneService</td>\n",
       "      <td>3.95</td>\n",
       "    </tr>\n",
       "    <tr>\n",
       "      <th>10</th>\n",
       "      <td>InternetService_Fiber optic</td>\n",
       "      <td>3.01</td>\n",
       "    </tr>\n",
       "    <tr>\n",
       "      <th>2</th>\n",
       "      <td>PaperlessBilling</td>\n",
       "      <td>2.89</td>\n",
       "    </tr>\n",
       "    <tr>\n",
       "      <th>6</th>\n",
       "      <td>Multipleline_Yes</td>\n",
       "      <td>2.43</td>\n",
       "    </tr>\n",
       "    <tr>\n",
       "      <th>8</th>\n",
       "      <td>StreamingTV_Yes</td>\n",
       "      <td>2.29</td>\n",
       "    </tr>\n",
       "    <tr>\n",
       "      <th>7</th>\n",
       "      <td>TechSupport_Yes</td>\n",
       "      <td>2.04</td>\n",
       "    </tr>\n",
       "    <tr>\n",
       "      <th>9</th>\n",
       "      <td>OnlineSecurity_Yes</td>\n",
       "      <td>1.98</td>\n",
       "    </tr>\n",
       "    <tr>\n",
       "      <th>5</th>\n",
       "      <td>Electronic check</td>\n",
       "      <td>1.93</td>\n",
       "    </tr>\n",
       "    <tr>\n",
       "      <th>0</th>\n",
       "      <td>tenure</td>\n",
       "      <td>1.65</td>\n",
       "    </tr>\n",
       "    <tr>\n",
       "      <th>3</th>\n",
       "      <td>SeniorCitizen</td>\n",
       "      <td>1.32</td>\n",
       "    </tr>\n",
       "    <tr>\n",
       "      <th>4</th>\n",
       "      <td>One year or +</td>\n",
       "      <td>1.32</td>\n",
       "    </tr>\n",
       "  </tbody>\n",
       "</table>\n",
       "</div>"
      ],
      "text/plain": [
       "                       Features   VIF\n",
       "11              OnlineBackup_No  4.41\n",
       "12             OnlineBackup_Yes  4.18\n",
       "1                  PhoneService  3.95\n",
       "10  InternetService_Fiber optic  3.01\n",
       "2              PaperlessBilling  2.89\n",
       "6              Multipleline_Yes  2.43\n",
       "8               StreamingTV_Yes  2.29\n",
       "7               TechSupport_Yes  2.04\n",
       "9            OnlineSecurity_Yes  1.98\n",
       "5              Electronic check  1.93\n",
       "0                        tenure  1.65\n",
       "3                 SeniorCitizen  1.32\n",
       "4                 One year or +  1.32"
      ]
     },
     "execution_count": 70,
     "metadata": {},
     "output_type": "execute_result"
    }
   ],
   "source": [
    "vif = pd.DataFrame()\n",
    "vif['Features'] = x_train.columns\n",
    "vif['VIF'] = [variance_inflation_factor(x_train.values, i) for i in range(x_train.shape[1])]\n",
    "vif['VIF'] = round(vif['VIF'], 2)\n",
    "vif = vif.sort_values(by = \"VIF\", ascending = False)\n",
    "vif"
   ]
  },
  {
   "cell_type": "code",
   "execution_count": 71,
   "metadata": {},
   "outputs": [],
   "source": [
    "x_train.drop(\"OnlineBackup_No\", axis=1, inplace=True)"
   ]
  },
  {
   "cell_type": "code",
   "execution_count": 72,
   "metadata": {},
   "outputs": [
    {
     "data": {
      "text/html": [
       "<table class=\"simpletable\">\n",
       "<caption>Generalized Linear Model Regression Results</caption>\n",
       "<tr>\n",
       "  <th>Dep. Variable:</th>         <td>Churn</td>      <th>  No. Observations:  </th>  <td>  4930</td> \n",
       "</tr>\n",
       "<tr>\n",
       "  <th>Model:</th>                  <td>GLM</td>       <th>  Df Residuals:      </th>  <td>  4917</td> \n",
       "</tr>\n",
       "<tr>\n",
       "  <th>Model Family:</th>        <td>Binomial</td>     <th>  Df Model:          </th>  <td>    12</td> \n",
       "</tr>\n",
       "<tr>\n",
       "  <th>Link Function:</th>         <td>logit</td>      <th>  Scale:             </th> <td>  1.0000</td>\n",
       "</tr>\n",
       "<tr>\n",
       "  <th>Method:</th>                <td>IRLS</td>       <th>  Log-Likelihood:    </th> <td> -2072.4</td>\n",
       "</tr>\n",
       "<tr>\n",
       "  <th>Date:</th>            <td>Sat, 04 Jun 2022</td> <th>  Deviance:          </th> <td>  4144.7</td>\n",
       "</tr>\n",
       "<tr>\n",
       "  <th>Time:</th>                <td>13:28:37</td>     <th>  Pearson chi2:      </th> <td>5.19e+03</td>\n",
       "</tr>\n",
       "<tr>\n",
       "  <th>No. Iterations:</th>          <td>6</td>        <th>                     </th>     <td> </td>   \n",
       "</tr>\n",
       "<tr>\n",
       "  <th>Covariance Type:</th>     <td>nonrobust</td>    <th>                     </th>     <td> </td>   \n",
       "</tr>\n",
       "</table>\n",
       "<table class=\"simpletable\">\n",
       "<tr>\n",
       "               <td></td>                  <th>coef</th>     <th>std err</th>      <th>z</th>      <th>P>|z|</th>  <th>[0.025</th>    <th>0.975]</th>  \n",
       "</tr>\n",
       "<tr>\n",
       "  <th>const</th>                       <td>   -1.8016</td> <td>    0.153</td> <td>  -11.741</td> <td> 0.000</td> <td>   -2.102</td> <td>   -1.501</td>\n",
       "</tr>\n",
       "<tr>\n",
       "  <th>tenure</th>                      <td>   -1.0737</td> <td>    0.059</td> <td>  -18.267</td> <td> 0.000</td> <td>   -1.189</td> <td>   -0.958</td>\n",
       "</tr>\n",
       "<tr>\n",
       "  <th>PhoneService</th>                <td>   -0.9406</td> <td>    0.144</td> <td>   -6.543</td> <td> 0.000</td> <td>   -1.222</td> <td>   -0.659</td>\n",
       "</tr>\n",
       "<tr>\n",
       "  <th>PaperlessBilling</th>            <td>    0.4817</td> <td>    0.088</td> <td>    5.474</td> <td> 0.000</td> <td>    0.309</td> <td>    0.654</td>\n",
       "</tr>\n",
       "<tr>\n",
       "  <th>SeniorCitizen</th>               <td>    0.4388</td> <td>    0.101</td> <td>    4.332</td> <td> 0.000</td> <td>    0.240</td> <td>    0.637</td>\n",
       "</tr>\n",
       "<tr>\n",
       "  <th>One year or +</th>               <td>   -0.3920</td> <td>    0.118</td> <td>   -3.312</td> <td> 0.001</td> <td>   -0.624</td> <td>   -0.160</td>\n",
       "</tr>\n",
       "<tr>\n",
       "  <th>Electronic check</th>            <td>    0.4972</td> <td>    0.083</td> <td>    6.001</td> <td> 0.000</td> <td>    0.335</td> <td>    0.660</td>\n",
       "</tr>\n",
       "<tr>\n",
       "  <th>Multipleline_Yes</th>            <td>    0.4083</td> <td>    0.094</td> <td>    4.328</td> <td> 0.000</td> <td>    0.223</td> <td>    0.593</td>\n",
       "</tr>\n",
       "<tr>\n",
       "  <th>TechSupport_Yes</th>             <td>   -0.4327</td> <td>    0.102</td> <td>   -4.251</td> <td> 0.000</td> <td>   -0.632</td> <td>   -0.233</td>\n",
       "</tr>\n",
       "<tr>\n",
       "  <th>StreamingTV_Yes</th>             <td>    0.3883</td> <td>    0.091</td> <td>    4.250</td> <td> 0.000</td> <td>    0.209</td> <td>    0.567</td>\n",
       "</tr>\n",
       "<tr>\n",
       "  <th>OnlineSecurity_Yes</th>          <td>   -0.1601</td> <td>    0.100</td> <td>   -1.602</td> <td> 0.109</td> <td>   -0.356</td> <td>    0.036</td>\n",
       "</tr>\n",
       "<tr>\n",
       "  <th>InternetService_Fiber optic</th> <td>    1.3649</td> <td>    0.101</td> <td>   13.577</td> <td> 0.000</td> <td>    1.168</td> <td>    1.562</td>\n",
       "</tr>\n",
       "<tr>\n",
       "  <th>OnlineBackup_Yes</th>            <td>   -0.1235</td> <td>    0.092</td> <td>   -1.338</td> <td> 0.181</td> <td>   -0.304</td> <td>    0.057</td>\n",
       "</tr>\n",
       "</table>"
      ],
      "text/plain": [
       "<class 'statsmodels.iolib.summary.Summary'>\n",
       "\"\"\"\n",
       "                 Generalized Linear Model Regression Results                  \n",
       "==============================================================================\n",
       "Dep. Variable:                  Churn   No. Observations:                 4930\n",
       "Model:                            GLM   Df Residuals:                     4917\n",
       "Model Family:                Binomial   Df Model:                           12\n",
       "Link Function:                  logit   Scale:                          1.0000\n",
       "Method:                          IRLS   Log-Likelihood:                -2072.4\n",
       "Date:                Sat, 04 Jun 2022   Deviance:                       4144.7\n",
       "Time:                        13:28:37   Pearson chi2:                 5.19e+03\n",
       "No. Iterations:                     6                                         \n",
       "Covariance Type:            nonrobust                                         \n",
       "===============================================================================================\n",
       "                                  coef    std err          z      P>|z|      [0.025      0.975]\n",
       "-----------------------------------------------------------------------------------------------\n",
       "const                          -1.8016      0.153    -11.741      0.000      -2.102      -1.501\n",
       "tenure                         -1.0737      0.059    -18.267      0.000      -1.189      -0.958\n",
       "PhoneService                   -0.9406      0.144     -6.543      0.000      -1.222      -0.659\n",
       "PaperlessBilling                0.4817      0.088      5.474      0.000       0.309       0.654\n",
       "SeniorCitizen                   0.4388      0.101      4.332      0.000       0.240       0.637\n",
       "One year or +                  -0.3920      0.118     -3.312      0.001      -0.624      -0.160\n",
       "Electronic check                0.4972      0.083      6.001      0.000       0.335       0.660\n",
       "Multipleline_Yes                0.4083      0.094      4.328      0.000       0.223       0.593\n",
       "TechSupport_Yes                -0.4327      0.102     -4.251      0.000      -0.632      -0.233\n",
       "StreamingTV_Yes                 0.3883      0.091      4.250      0.000       0.209       0.567\n",
       "OnlineSecurity_Yes             -0.1601      0.100     -1.602      0.109      -0.356       0.036\n",
       "InternetService_Fiber optic     1.3649      0.101     13.577      0.000       1.168       1.562\n",
       "OnlineBackup_Yes               -0.1235      0.092     -1.338      0.181      -0.304       0.057\n",
       "===============================================================================================\n",
       "\"\"\""
      ]
     },
     "execution_count": 72,
     "metadata": {},
     "output_type": "execute_result"
    }
   ],
   "source": [
    "model4=sm.GLM(ytrain, (sm.add_constant(x_train)), family=sm.families.Binomial())\n",
    "res=model4.fit()\n",
    "res.summary()"
   ]
  },
  {
   "cell_type": "code",
   "execution_count": 73,
   "metadata": {},
   "outputs": [
    {
     "data": {
      "text/plain": [
       "(4930, 12)"
      ]
     },
     "execution_count": 73,
     "metadata": {},
     "output_type": "execute_result"
    }
   ],
   "source": [
    "x_train.shape "
   ]
  },
  {
   "cell_type": "code",
   "execution_count": 74,
   "metadata": {},
   "outputs": [],
   "source": [
    "x_train_sm=sm.add_constant(x_train)"
   ]
  },
  {
   "cell_type": "code",
   "execution_count": 75,
   "metadata": {},
   "outputs": [],
   "source": [
    "y_train_pred_final=res.predict(x_train_sm).values.reshape(-1)"
   ]
  },
  {
   "cell_type": "code",
   "execution_count": 76,
   "metadata": {},
   "outputs": [
    {
     "data": {
      "text/html": [
       "<div>\n",
       "<style scoped>\n",
       "    .dataframe tbody tr th:only-of-type {\n",
       "        vertical-align: middle;\n",
       "    }\n",
       "\n",
       "    .dataframe tbody tr th {\n",
       "        vertical-align: top;\n",
       "    }\n",
       "\n",
       "    .dataframe thead th {\n",
       "        text-align: right;\n",
       "    }\n",
       "</style>\n",
       "<table border=\"1\" class=\"dataframe\">\n",
       "  <thead>\n",
       "    <tr style=\"text-align: right;\">\n",
       "      <th></th>\n",
       "      <th>y_train_pred_prob</th>\n",
       "    </tr>\n",
       "  </thead>\n",
       "  <tbody>\n",
       "    <tr>\n",
       "      <th>3903</th>\n",
       "      <td>0.011319</td>\n",
       "    </tr>\n",
       "    <tr>\n",
       "      <th>101</th>\n",
       "      <td>0.487487</td>\n",
       "    </tr>\n",
       "    <tr>\n",
       "      <th>2815</th>\n",
       "      <td>0.036331</td>\n",
       "    </tr>\n",
       "    <tr>\n",
       "      <th>1547</th>\n",
       "      <td>0.049476</td>\n",
       "    </tr>\n",
       "    <tr>\n",
       "      <th>1915</th>\n",
       "      <td>0.702090</td>\n",
       "    </tr>\n",
       "    <tr>\n",
       "      <th>4076</th>\n",
       "      <td>0.458256</td>\n",
       "    </tr>\n",
       "    <tr>\n",
       "      <th>1129</th>\n",
       "      <td>0.083094</td>\n",
       "    </tr>\n",
       "    <tr>\n",
       "      <th>3377</th>\n",
       "      <td>0.020163</td>\n",
       "    </tr>\n",
       "    <tr>\n",
       "      <th>921</th>\n",
       "      <td>0.116938</td>\n",
       "    </tr>\n",
       "    <tr>\n",
       "      <th>3027</th>\n",
       "      <td>0.108299</td>\n",
       "    </tr>\n",
       "  </tbody>\n",
       "</table>\n",
       "</div>"
      ],
      "text/plain": [
       "      y_train_pred_prob\n",
       "3903           0.011319\n",
       "101            0.487487\n",
       "2815           0.036331\n",
       "1547           0.049476\n",
       "1915           0.702090\n",
       "4076           0.458256\n",
       "1129           0.083094\n",
       "3377           0.020163\n",
       "921            0.116938\n",
       "3027           0.108299"
      ]
     },
     "execution_count": 76,
     "metadata": {},
     "output_type": "execute_result"
    }
   ],
   "source": [
    "pred= pd.DataFrame()\n",
    "pred[\"y_train_pred_prob\"]=y_train_pred_final\n",
    "\n",
    "pred.sample(10)"
   ]
  },
  {
   "cell_type": "code",
   "execution_count": 77,
   "metadata": {},
   "outputs": [],
   "source": [
    "#using thrshold value 0.5"
   ]
  },
  {
   "cell_type": "code",
   "execution_count": 78,
   "metadata": {},
   "outputs": [],
   "source": [
    "pred[\"y_train_pred_class\"] = pred[\"y_train_pred_prob\"].apply(lambda x: 1 if x>0.5 else 0)"
   ]
  },
  {
   "cell_type": "code",
   "execution_count": 79,
   "metadata": {},
   "outputs": [
    {
     "data": {
      "text/html": [
       "<div>\n",
       "<style scoped>\n",
       "    .dataframe tbody tr th:only-of-type {\n",
       "        vertical-align: middle;\n",
       "    }\n",
       "\n",
       "    .dataframe tbody tr th {\n",
       "        vertical-align: top;\n",
       "    }\n",
       "\n",
       "    .dataframe thead th {\n",
       "        text-align: right;\n",
       "    }\n",
       "</style>\n",
       "<table border=\"1\" class=\"dataframe\">\n",
       "  <thead>\n",
       "    <tr style=\"text-align: right;\">\n",
       "      <th></th>\n",
       "      <th>y_train_pred_prob</th>\n",
       "      <th>y_train_pred_class</th>\n",
       "    </tr>\n",
       "  </thead>\n",
       "  <tbody>\n",
       "    <tr>\n",
       "      <th>1007</th>\n",
       "      <td>0.295222</td>\n",
       "      <td>0</td>\n",
       "    </tr>\n",
       "    <tr>\n",
       "      <th>3937</th>\n",
       "      <td>0.046810</td>\n",
       "      <td>0</td>\n",
       "    </tr>\n",
       "    <tr>\n",
       "      <th>2839</th>\n",
       "      <td>0.095756</td>\n",
       "      <td>0</td>\n",
       "    </tr>\n",
       "    <tr>\n",
       "      <th>330</th>\n",
       "      <td>0.227584</td>\n",
       "      <td>0</td>\n",
       "    </tr>\n",
       "    <tr>\n",
       "      <th>1333</th>\n",
       "      <td>0.633888</td>\n",
       "      <td>1</td>\n",
       "    </tr>\n",
       "    <tr>\n",
       "      <th>134</th>\n",
       "      <td>0.028529</td>\n",
       "      <td>0</td>\n",
       "    </tr>\n",
       "    <tr>\n",
       "      <th>141</th>\n",
       "      <td>0.646901</td>\n",
       "      <td>1</td>\n",
       "    </tr>\n",
       "    <tr>\n",
       "      <th>877</th>\n",
       "      <td>0.114469</td>\n",
       "      <td>0</td>\n",
       "    </tr>\n",
       "    <tr>\n",
       "      <th>4243</th>\n",
       "      <td>0.044117</td>\n",
       "      <td>0</td>\n",
       "    </tr>\n",
       "    <tr>\n",
       "      <th>1523</th>\n",
       "      <td>0.766736</td>\n",
       "      <td>1</td>\n",
       "    </tr>\n",
       "  </tbody>\n",
       "</table>\n",
       "</div>"
      ],
      "text/plain": [
       "      y_train_pred_prob  y_train_pred_class\n",
       "1007           0.295222                   0\n",
       "3937           0.046810                   0\n",
       "2839           0.095756                   0\n",
       "330            0.227584                   0\n",
       "1333           0.633888                   1\n",
       "134            0.028529                   0\n",
       "141            0.646901                   1\n",
       "877            0.114469                   0\n",
       "4243           0.044117                   0\n",
       "1523           0.766736                   1"
      ]
     },
     "execution_count": 79,
     "metadata": {},
     "output_type": "execute_result"
    }
   ],
   "source": [
    "pred.sample(10)"
   ]
  },
  {
   "cell_type": "code",
   "execution_count": 80,
   "metadata": {},
   "outputs": [],
   "source": [
    "from sklearn.metrics import accuracy_score, confusion_matrix"
   ]
  },
  {
   "cell_type": "code",
   "execution_count": 81,
   "metadata": {},
   "outputs": [
    {
     "name": "stdout",
     "output_type": "stream",
     "text": [
      "(4930,)\n",
      "(4930,)\n"
     ]
    }
   ],
   "source": [
    "print(ytrain.shape)\n",
    "print(pred[\"y_train_pred_class\"].shape)"
   ]
  },
  {
   "cell_type": "code",
   "execution_count": 82,
   "metadata": {},
   "outputs": [
    {
     "name": "stdout",
     "output_type": "stream",
     "text": [
      "0.8103448275862069\n"
     ]
    }
   ],
   "source": [
    "# Let's check the overall accuracy.\n",
    "print(accuracy_score(ytrain,pred[\"y_train_pred_class\"]))"
   ]
  },
  {
   "cell_type": "code",
   "execution_count": 83,
   "metadata": {},
   "outputs": [],
   "source": [
    "con= confusion_matrix(ytrain,pred[\"y_train_pred_class\"])"
   ]
  },
  {
   "cell_type": "code",
   "execution_count": 84,
   "metadata": {},
   "outputs": [
    {
     "name": "stdout",
     "output_type": "stream",
     "text": [
      "[[3303  324]\n",
      " [ 611  692]]\n"
     ]
    }
   ],
   "source": [
    "print(con)"
   ]
  },
  {
   "cell_type": "code",
   "execution_count": 85,
   "metadata": {},
   "outputs": [
    {
     "name": "stdout",
     "output_type": "stream",
     "text": [
      "0.5310821181887951\n"
     ]
    }
   ],
   "source": [
    "#senstivity \n",
    "# TP / TP + FN\n",
    "print(con[1][1]/(con[1][0]+con[1][1]))"
   ]
  },
  {
   "cell_type": "code",
   "execution_count": 86,
   "metadata": {},
   "outputs": [
    {
     "name": "stdout",
     "output_type": "stream",
     "text": [
      "0.9106699751861043\n"
     ]
    }
   ],
   "source": [
    "#specificity\n",
    "# TN/ TN + FP\n",
    "print(con[0][0]/(con[0][0]+con[0][1]))"
   ]
  },
  {
   "cell_type": "markdown",
   "metadata": {},
   "source": [
    "## ROC CURVE"
   ]
  },
  {
   "cell_type": "code",
   "execution_count": 87,
   "metadata": {},
   "outputs": [],
   "source": [
    "from sklearn import metrics"
   ]
  },
  {
   "cell_type": "code",
   "execution_count": 88,
   "metadata": {},
   "outputs": [],
   "source": [
    "fpr,tpr , threshold = metrics.roc_curve( ytrain ,pred[\"y_train_pred_prob\"] ,drop_intermediate = False )"
   ]
  },
  {
   "cell_type": "code",
   "execution_count": 89,
   "metadata": {},
   "outputs": [],
   "source": [
    "auc_score = metrics.roc_auc_score( ytrain ,pred[\"y_train_pred_prob\"] )"
   ]
  },
  {
   "cell_type": "code",
   "execution_count": 90,
   "metadata": {},
   "outputs": [
    {
     "data": {
      "text/plain": [
       "0.8408448954830753"
      ]
     },
     "execution_count": 90,
     "metadata": {},
     "output_type": "execute_result"
    }
   ],
   "source": [
    "auc_score"
   ]
  },
  {
   "cell_type": "code",
   "execution_count": 91,
   "metadata": {},
   "outputs": [
    {
     "data": {
      "image/png": "[encoded data removed]",
      "text/plain": [
       "<Figure size 432x288 with 1 Axes>"
      ]
     },
     "metadata": {
      "needs_background": "light"
     },
     "output_type": "display_data"
    }
   ],
   "source": [
    "plt.plot(fpr,tpr,label='ROC curve (area = %0.2f)' % auc_score )\n",
    "plt.plot([0, 1], [0,1 ], 'k--')\n",
    "plt.title(\"ROC Curve\")\n",
    "plt.xlabel(\"False positive rate\")\n",
    "plt.ylabel(\"True positive rate\")\n",
    "plt.legend(loc=\"lower right\")\n",
    "plt.show()"
   ]
  },
  {
   "cell_type": "code",
   "execution_count": 92,
   "metadata": {},
   "outputs": [
    {
     "data": {
      "text/html": [
       "<div>\n",
       "<style scoped>\n",
       "    .dataframe tbody tr th:only-of-type {\n",
       "        vertical-align: middle;\n",
       "    }\n",
       "\n",
       "    .dataframe tbody tr th {\n",
       "        vertical-align: top;\n",
       "    }\n",
       "\n",
       "    .dataframe thead th {\n",
       "        text-align: right;\n",
       "    }\n",
       "</style>\n",
       "<table border=\"1\" class=\"dataframe\">\n",
       "  <thead>\n",
       "    <tr style=\"text-align: right;\">\n",
       "      <th></th>\n",
       "      <th>y_train_pred_prob</th>\n",
       "      <th>y_train_pred_class</th>\n",
       "    </tr>\n",
       "  </thead>\n",
       "  <tbody>\n",
       "    <tr>\n",
       "      <th>0</th>\n",
       "      <td>0.038856</td>\n",
       "      <td>0</td>\n",
       "    </tr>\n",
       "    <tr>\n",
       "      <th>1</th>\n",
       "      <td>0.428857</td>\n",
       "      <td>0</td>\n",
       "    </tr>\n",
       "  </tbody>\n",
       "</table>\n",
       "</div>"
      ],
      "text/plain": [
       "   y_train_pred_prob  y_train_pred_class\n",
       "0           0.038856                   0\n",
       "1           0.428857                   0"
      ]
     },
     "execution_count": 92,
     "metadata": {},
     "output_type": "execute_result"
    }
   ],
   "source": [
    "pred.head(2)"
   ]
  },
  {
   "cell_type": "code",
   "execution_count": 93,
   "metadata": {},
   "outputs": [
    {
     "data": {
      "text/html": [
       "<div>\n",
       "<style scoped>\n",
       "    .dataframe tbody tr th:only-of-type {\n",
       "        vertical-align: middle;\n",
       "    }\n",
       "\n",
       "    .dataframe tbody tr th {\n",
       "        vertical-align: top;\n",
       "    }\n",
       "\n",
       "    .dataframe thead th {\n",
       "        text-align: right;\n",
       "    }\n",
       "</style>\n",
       "<table border=\"1\" class=\"dataframe\">\n",
       "  <thead>\n",
       "    <tr style=\"text-align: right;\">\n",
       "      <th></th>\n",
       "      <th>y_train_pred_prob</th>\n",
       "      <th>y_train_pred_class</th>\n",
       "      <th>0.1</th>\n",
       "      <th>0.2</th>\n",
       "      <th>0.3</th>\n",
       "      <th>0.4</th>\n",
       "      <th>0.5</th>\n",
       "      <th>0.6</th>\n",
       "      <th>0.7</th>\n",
       "      <th>0.8</th>\n",
       "      <th>0.9</th>\n",
       "    </tr>\n",
       "  </thead>\n",
       "  <tbody>\n",
       "    <tr>\n",
       "      <th>0</th>\n",
       "      <td>0.038856</td>\n",
       "      <td>0</td>\n",
       "      <td>0</td>\n",
       "      <td>0</td>\n",
       "      <td>0</td>\n",
       "      <td>0</td>\n",
       "      <td>0</td>\n",
       "      <td>0</td>\n",
       "      <td>0</td>\n",
       "      <td>0</td>\n",
       "      <td>0</td>\n",
       "    </tr>\n",
       "    <tr>\n",
       "      <th>1</th>\n",
       "      <td>0.428857</td>\n",
       "      <td>0</td>\n",
       "      <td>1</td>\n",
       "      <td>1</td>\n",
       "      <td>1</td>\n",
       "      <td>1</td>\n",
       "      <td>0</td>\n",
       "      <td>0</td>\n",
       "      <td>0</td>\n",
       "      <td>0</td>\n",
       "      <td>0</td>\n",
       "    </tr>\n",
       "    <tr>\n",
       "      <th>2</th>\n",
       "      <td>0.201356</td>\n",
       "      <td>0</td>\n",
       "      <td>1</td>\n",
       "      <td>1</td>\n",
       "      <td>0</td>\n",
       "      <td>0</td>\n",
       "      <td>0</td>\n",
       "      <td>0</td>\n",
       "      <td>0</td>\n",
       "      <td>0</td>\n",
       "      <td>0</td>\n",
       "    </tr>\n",
       "    <tr>\n",
       "      <th>3</th>\n",
       "      <td>0.017551</td>\n",
       "      <td>0</td>\n",
       "      <td>0</td>\n",
       "      <td>0</td>\n",
       "      <td>0</td>\n",
       "      <td>0</td>\n",
       "      <td>0</td>\n",
       "      <td>0</td>\n",
       "      <td>0</td>\n",
       "      <td>0</td>\n",
       "      <td>0</td>\n",
       "    </tr>\n",
       "    <tr>\n",
       "      <th>4</th>\n",
       "      <td>0.088091</td>\n",
       "      <td>0</td>\n",
       "      <td>0</td>\n",
       "      <td>0</td>\n",
       "      <td>0</td>\n",
       "      <td>0</td>\n",
       "      <td>0</td>\n",
       "      <td>0</td>\n",
       "      <td>0</td>\n",
       "      <td>0</td>\n",
       "      <td>0</td>\n",
       "    </tr>\n",
       "  </tbody>\n",
       "</table>\n",
       "</div>"
      ],
      "text/plain": [
       "   y_train_pred_prob  y_train_pred_class  0.1  0.2  0.3  0.4  0.5  0.6  0.7  \\\n",
       "0           0.038856                   0    0    0    0    0    0    0    0   \n",
       "1           0.428857                   0    1    1    1    1    0    0    0   \n",
       "2           0.201356                   0    1    1    0    0    0    0    0   \n",
       "3           0.017551                   0    0    0    0    0    0    0    0   \n",
       "4           0.088091                   0    0    0    0    0    0    0    0   \n",
       "\n",
       "   0.8  0.9  \n",
       "0    0    0  \n",
       "1    0    0  \n",
       "2    0    0  \n",
       "3    0    0  \n",
       "4    0    0  "
      ]
     },
     "execution_count": 93,
     "metadata": {},
     "output_type": "execute_result"
    }
   ],
   "source": [
    "cutoffs= [i/10 for i in range (1,10)]\n",
    "for i in cutoffs:\n",
    "    pred[i]=pred.y_train_pred_prob.map(lambda x:1 if x>i else 0)\n",
    "pred.head()"
   ]
  },
  {
   "cell_type": "code",
   "execution_count": 94,
   "metadata": {},
   "outputs": [
    {
     "name": "stdout",
     "output_type": "stream",
     "text": [
      "     prob  accuracy     sensi     speci\n",
      "0.1   0.1  0.579513  0.940138  0.449959\n",
      "0.2   0.2  0.719473  0.847276  0.673559\n",
      "0.3   0.3  0.780933  0.699156  0.810312\n",
      "0.4   0.4  0.802637  0.613968  0.870416\n",
      "0.5   0.5  0.810345  0.531082  0.910670\n",
      "0.6   0.6  0.804057  0.413661  0.944307\n",
      "0.7   0.7  0.783773  0.254797  0.973808\n",
      "0.8   0.8  0.752941  0.081351  0.994210\n",
      "0.9   0.9  0.736917  0.004605  1.000000\n"
     ]
    }
   ],
   "source": [
    "cutoffs= [i/10 for i in range (1,10)]\n",
    "cut = pd.DataFrame( columns = ['prob','accuracy','sensi','speci'])\n",
    "for i in cutoffs:\n",
    "    cm1= confusion_matrix(ytrain,pred[i])\n",
    "    total = sum(sum(cm1))\n",
    "    accuracy = (cm1[0,0]+ cm1[1,1])/total\n",
    "    sens=cm1[1,1]/(cm1[1,0]+cm1[1,1])\n",
    "    spec=cm1[0][0]/(cm1[0][0]+cm1[0][1])\n",
    "    cut.loc[i]=[i,accuracy, sens, spec]\n",
    "print(cut)   "
   ]
  },
  {
   "cell_type": "code",
   "execution_count": 95,
   "metadata": {},
   "outputs": [
    {
     "data": {
      "text/html": [
       "<div>\n",
       "<style scoped>\n",
       "    .dataframe tbody tr th:only-of-type {\n",
       "        vertical-align: middle;\n",
       "    }\n",
       "\n",
       "    .dataframe tbody tr th {\n",
       "        vertical-align: top;\n",
       "    }\n",
       "\n",
       "    .dataframe thead th {\n",
       "        text-align: right;\n",
       "    }\n",
       "</style>\n",
       "<table border=\"1\" class=\"dataframe\">\n",
       "  <thead>\n",
       "    <tr style=\"text-align: right;\">\n",
       "      <th></th>\n",
       "      <th>prob</th>\n",
       "      <th>accuracy</th>\n",
       "      <th>sensi</th>\n",
       "      <th>speci</th>\n",
       "    </tr>\n",
       "  </thead>\n",
       "  <tbody>\n",
       "    <tr>\n",
       "      <th>0.1</th>\n",
       "      <td>0.1</td>\n",
       "      <td>0.579513</td>\n",
       "      <td>0.940138</td>\n",
       "      <td>0.449959</td>\n",
       "    </tr>\n",
       "    <tr>\n",
       "      <th>0.2</th>\n",
       "      <td>0.2</td>\n",
       "      <td>0.719473</td>\n",
       "      <td>0.847276</td>\n",
       "      <td>0.673559</td>\n",
       "    </tr>\n",
       "    <tr>\n",
       "      <th>0.3</th>\n",
       "      <td>0.3</td>\n",
       "      <td>0.780933</td>\n",
       "      <td>0.699156</td>\n",
       "      <td>0.810312</td>\n",
       "    </tr>\n",
       "    <tr>\n",
       "      <th>0.4</th>\n",
       "      <td>0.4</td>\n",
       "      <td>0.802637</td>\n",
       "      <td>0.613968</td>\n",
       "      <td>0.870416</td>\n",
       "    </tr>\n",
       "    <tr>\n",
       "      <th>0.5</th>\n",
       "      <td>0.5</td>\n",
       "      <td>0.810345</td>\n",
       "      <td>0.531082</td>\n",
       "      <td>0.910670</td>\n",
       "    </tr>\n",
       "    <tr>\n",
       "      <th>0.6</th>\n",
       "      <td>0.6</td>\n",
       "      <td>0.804057</td>\n",
       "      <td>0.413661</td>\n",
       "      <td>0.944307</td>\n",
       "    </tr>\n",
       "    <tr>\n",
       "      <th>0.7</th>\n",
       "      <td>0.7</td>\n",
       "      <td>0.783773</td>\n",
       "      <td>0.254797</td>\n",
       "      <td>0.973808</td>\n",
       "    </tr>\n",
       "    <tr>\n",
       "      <th>0.8</th>\n",
       "      <td>0.8</td>\n",
       "      <td>0.752941</td>\n",
       "      <td>0.081351</td>\n",
       "      <td>0.994210</td>\n",
       "    </tr>\n",
       "    <tr>\n",
       "      <th>0.9</th>\n",
       "      <td>0.9</td>\n",
       "      <td>0.736917</td>\n",
       "      <td>0.004605</td>\n",
       "      <td>1.000000</td>\n",
       "    </tr>\n",
       "  </tbody>\n",
       "</table>\n",
       "</div>"
      ],
      "text/plain": [
       "     prob  accuracy     sensi     speci\n",
       "0.1   0.1  0.579513  0.940138  0.449959\n",
       "0.2   0.2  0.719473  0.847276  0.673559\n",
       "0.3   0.3  0.780933  0.699156  0.810312\n",
       "0.4   0.4  0.802637  0.613968  0.870416\n",
       "0.5   0.5  0.810345  0.531082  0.910670\n",
       "0.6   0.6  0.804057  0.413661  0.944307\n",
       "0.7   0.7  0.783773  0.254797  0.973808\n",
       "0.8   0.8  0.752941  0.081351  0.994210\n",
       "0.9   0.9  0.736917  0.004605  1.000000"
      ]
     },
     "execution_count": 95,
     "metadata": {},
     "output_type": "execute_result"
    }
   ],
   "source": [
    "cut"
   ]
  },
  {
   "cell_type": "code",
   "execution_count": 96,
   "metadata": {},
   "outputs": [
    {
     "data": {
      "text/plain": [
       "<AxesSubplot:xlabel='prob'>"
      ]
     },
     "execution_count": 96,
     "metadata": {},
     "output_type": "execute_result"
    },
    {
     "data": {
      "image/png": "[encoded data removed]",
      "text/plain": [
       "<Figure size 432x288 with 1 Axes>"
      ]
     },
     "metadata": {
      "needs_background": "light"
     },
     "output_type": "display_data"
    }
   ],
   "source": [
    "cut.plot.line(x=\"prob\",y=[\"accuracy\",\"sensi\",\"speci\"])"
   ]
  },
  {
   "cell_type": "markdown",
   "metadata": {},
   "source": [
    "#### From the curve above, 0.3 is the optimum point to take it as a cutoff probability."
   ]
  },
  {
   "cell_type": "code",
   "execution_count": 97,
   "metadata": {},
   "outputs": [],
   "source": [
    "pred['final_predicted'] = pred.y_train_pred_prob.map( lambda x: 1 if x > 0.3 else 0)"
   ]
  },
  {
   "cell_type": "code",
   "execution_count": 98,
   "metadata": {},
   "outputs": [
    {
     "data": {
      "text/html": [
       "<div>\n",
       "<style scoped>\n",
       "    .dataframe tbody tr th:only-of-type {\n",
       "        vertical-align: middle;\n",
       "    }\n",
       "\n",
       "    .dataframe tbody tr th {\n",
       "        vertical-align: top;\n",
       "    }\n",
       "\n",
       "    .dataframe thead th {\n",
       "        text-align: right;\n",
       "    }\n",
       "</style>\n",
       "<table border=\"1\" class=\"dataframe\">\n",
       "  <thead>\n",
       "    <tr style=\"text-align: right;\">\n",
       "      <th></th>\n",
       "      <th>y_train_pred_prob</th>\n",
       "      <th>y_train_pred_class</th>\n",
       "      <th>0.1</th>\n",
       "      <th>0.2</th>\n",
       "      <th>0.3</th>\n",
       "      <th>0.4</th>\n",
       "      <th>0.5</th>\n",
       "      <th>0.6</th>\n",
       "      <th>0.7</th>\n",
       "      <th>0.8</th>\n",
       "      <th>0.9</th>\n",
       "      <th>final_predicted</th>\n",
       "    </tr>\n",
       "  </thead>\n",
       "  <tbody>\n",
       "    <tr>\n",
       "      <th>0</th>\n",
       "      <td>0.038856</td>\n",
       "      <td>0</td>\n",
       "      <td>0</td>\n",
       "      <td>0</td>\n",
       "      <td>0</td>\n",
       "      <td>0</td>\n",
       "      <td>0</td>\n",
       "      <td>0</td>\n",
       "      <td>0</td>\n",
       "      <td>0</td>\n",
       "      <td>0</td>\n",
       "      <td>0</td>\n",
       "    </tr>\n",
       "    <tr>\n",
       "      <th>1</th>\n",
       "      <td>0.428857</td>\n",
       "      <td>0</td>\n",
       "      <td>1</td>\n",
       "      <td>1</td>\n",
       "      <td>1</td>\n",
       "      <td>1</td>\n",
       "      <td>0</td>\n",
       "      <td>0</td>\n",
       "      <td>0</td>\n",
       "      <td>0</td>\n",
       "      <td>0</td>\n",
       "      <td>1</td>\n",
       "    </tr>\n",
       "    <tr>\n",
       "      <th>2</th>\n",
       "      <td>0.201356</td>\n",
       "      <td>0</td>\n",
       "      <td>1</td>\n",
       "      <td>1</td>\n",
       "      <td>0</td>\n",
       "      <td>0</td>\n",
       "      <td>0</td>\n",
       "      <td>0</td>\n",
       "      <td>0</td>\n",
       "      <td>0</td>\n",
       "      <td>0</td>\n",
       "      <td>0</td>\n",
       "    </tr>\n",
       "    <tr>\n",
       "      <th>3</th>\n",
       "      <td>0.017551</td>\n",
       "      <td>0</td>\n",
       "      <td>0</td>\n",
       "      <td>0</td>\n",
       "      <td>0</td>\n",
       "      <td>0</td>\n",
       "      <td>0</td>\n",
       "      <td>0</td>\n",
       "      <td>0</td>\n",
       "      <td>0</td>\n",
       "      <td>0</td>\n",
       "      <td>0</td>\n",
       "    </tr>\n",
       "    <tr>\n",
       "      <th>4</th>\n",
       "      <td>0.088091</td>\n",
       "      <td>0</td>\n",
       "      <td>0</td>\n",
       "      <td>0</td>\n",
       "      <td>0</td>\n",
       "      <td>0</td>\n",
       "      <td>0</td>\n",
       "      <td>0</td>\n",
       "      <td>0</td>\n",
       "      <td>0</td>\n",
       "      <td>0</td>\n",
       "      <td>0</td>\n",
       "    </tr>\n",
       "  </tbody>\n",
       "</table>\n",
       "</div>"
      ],
      "text/plain": [
       "   y_train_pred_prob  y_train_pred_class  0.1  0.2  0.3  0.4  0.5  0.6  0.7  \\\n",
       "0           0.038856                   0    0    0    0    0    0    0    0   \n",
       "1           0.428857                   0    1    1    1    1    0    0    0   \n",
       "2           0.201356                   0    1    1    0    0    0    0    0   \n",
       "3           0.017551                   0    0    0    0    0    0    0    0   \n",
       "4           0.088091                   0    0    0    0    0    0    0    0   \n",
       "\n",
       "   0.8  0.9  final_predicted  \n",
       "0    0    0                0  \n",
       "1    0    0                1  \n",
       "2    0    0                0  \n",
       "3    0    0                0  \n",
       "4    0    0                0  "
      ]
     },
     "execution_count": 98,
     "metadata": {},
     "output_type": "execute_result"
    }
   ],
   "source": [
    "pred.head()"
   ]
  },
  {
   "cell_type": "code",
   "execution_count": 99,
   "metadata": {},
   "outputs": [
    {
     "data": {
      "text/plain": [
       "0.7809330628803245"
      ]
     },
     "execution_count": 99,
     "metadata": {},
     "output_type": "execute_result"
    }
   ],
   "source": [
    "# Let's check the overall accuracy.\n",
    "accuracy_score(ytrain, pred[\"final_predicted\"])"
   ]
  },
  {
   "cell_type": "code",
   "execution_count": 100,
   "metadata": {},
   "outputs": [
    {
     "data": {
      "text/plain": [
       "array([[2939,  688],\n",
       "       [ 392,  911]], dtype=int64)"
      ]
     },
     "execution_count": 100,
     "metadata": {},
     "output_type": "execute_result"
    }
   ],
   "source": [
    "confusionmatrix = confusion_matrix(ytrain, pred[\"final_predicted\"] )\n",
    "confusionmatrix"
   ]
  },
  {
   "cell_type": "code",
   "execution_count": 101,
   "metadata": {},
   "outputs": [
    {
     "name": "stdout",
     "output_type": "stream",
     "text": [
      "sens 0.6991557943207981\n",
      "spec 0.8103115522470361\n"
     ]
    }
   ],
   "source": [
    "print(\"sens\",confusionmatrix[1,1]/(confusionmatrix[1,0]+confusionmatrix[1,1]))\n",
    "print(\"spec\",confusionmatrix[0][0]/(confusionmatrix[0][0]+confusionmatrix[0][1]))"
   ]
  },
  {
   "cell_type": "markdown",
   "metadata": {},
   "source": [
    "## precision recall"
   ]
  },
  {
   "cell_type": "code",
   "execution_count": 102,
   "metadata": {},
   "outputs": [],
   "source": [
    "from sklearn.metrics import classification_report , precision_score, recall_score, precision_recall_curve"
   ]
  },
  {
   "cell_type": "code",
   "execution_count": 103,
   "metadata": {},
   "outputs": [
    {
     "data": {
      "text/plain": [
       "array([[3303,  324],\n",
       "       [ 611,  692]], dtype=int64)"
      ]
     },
     "execution_count": 103,
     "metadata": {},
     "output_type": "execute_result"
    }
   ],
   "source": [
    "confusion = metrics.confusion_matrix(ytrain,pred[\"y_train_pred_class\"] )\n",
    "confusion"
   ]
  },
  {
   "cell_type": "code",
   "execution_count": 104,
   "metadata": {},
   "outputs": [
    {
     "name": "stdout",
     "output_type": "stream",
     "text": [
      "0.6811023622047244\n"
     ]
    }
   ],
   "source": [
    "#precision\n",
    "#precision = TP / TP + FP\n",
    "#confusion[1,1]/(confusion[0,1]+confusion[1,1])\n",
    "print(precision_score(ytrain,pred[\"y_train_pred_class\"]))"
   ]
  },
  {
   "cell_type": "code",
   "execution_count": 105,
   "metadata": {},
   "outputs": [
    {
     "name": "stdout",
     "output_type": "stream",
     "text": [
      "0.5310821181887951\n"
     ]
    }
   ],
   "source": [
    "#Recall = TP / TP + FN\n",
    "#confusion[1,1]/(confusion[1,0]+confusion[1,1])\n",
    "print(recall_score(ytrain,pred[\"y_train_pred_class\"]))"
   ]
  },
  {
   "cell_type": "code",
   "execution_count": 106,
   "metadata": {},
   "outputs": [
    {
     "name": "stdout",
     "output_type": "stream",
     "text": [
      "              precision    recall  f1-score   support\n",
      "\n",
      "           0       0.84      0.91      0.88      3627\n",
      "           1       0.68      0.53      0.60      1303\n",
      "\n",
      "    accuracy                           0.81      4930\n",
      "   macro avg       0.76      0.72      0.74      4930\n",
      "weighted avg       0.80      0.81      0.80      4930\n",
      "\n"
     ]
    }
   ],
   "source": [
    "print(classification_report(ytrain,pred[\"y_train_pred_class\"]))"
   ]
  },
  {
   "cell_type": "code",
   "execution_count": 107,
   "metadata": {},
   "outputs": [],
   "source": [
    "p, r, thresholds = precision_recall_curve(ytrain,pred[\"y_train_pred_prob\"])"
   ]
  },
  {
   "cell_type": "code",
   "execution_count": 108,
   "metadata": {},
   "outputs": [
    {
     "data": {
      "image/png": "[encoded data removed]",
      "text/plain": [
       "<Figure size 432x288 with 1 Axes>"
      ]
     },
     "metadata": {
      "needs_background": "light"
     },
     "output_type": "display_data"
    }
   ],
   "source": [
    "plt.plot(thresholds, p[:-1], \"g-\")\n",
    "plt.plot(thresholds, r[:-1], \"r-\")\n",
    "plt.show()"
   ]
  },
  {
   "cell_type": "code",
   "execution_count": 109,
   "metadata": {},
   "outputs": [],
   "source": [
    "#cutoff point is 0.4"
   ]
  },
  {
   "cell_type": "code",
   "execution_count": 110,
   "metadata": {},
   "outputs": [
    {
     "data": {
      "text/plain": [
       "0.7809330628803245"
      ]
     },
     "execution_count": 110,
     "metadata": {},
     "output_type": "execute_result"
    }
   ],
   "source": [
    "pred['final_predicted'] = pred.y_train_pred_prob.map( lambda x: 1 if x > 0.3 else 0)\n",
    "accuracy_score(ytrain, pred[\"final_predicted\"])\n"
   ]
  },
  {
   "cell_type": "code",
   "execution_count": 111,
   "metadata": {},
   "outputs": [
    {
     "data": {
      "text/plain": [
       "array([[2939,  688],\n",
       "       [ 392,  911]], dtype=int64)"
      ]
     },
     "execution_count": 111,
     "metadata": {},
     "output_type": "execute_result"
    }
   ],
   "source": [
    "confusionmatrix = confusion_matrix(ytrain, pred[\"final_predicted\"] )\n",
    "confusionmatrix"
   ]
  },
  {
   "cell_type": "code",
   "execution_count": 112,
   "metadata": {},
   "outputs": [
    {
     "name": "stdout",
     "output_type": "stream",
     "text": [
      "sens 0.6991557943207981\n",
      "spec 0.8103115522470361\n"
     ]
    }
   ],
   "source": [
    "print(\"sens\",confusionmatrix[1,1]/(confusionmatrix[1,0]+confusionmatrix[1,1]))\n",
    "print(\"spec\",confusionmatrix[0][0]/(confusionmatrix[0][0]+confusionmatrix[0][1]))"
   ]
  },
  {
   "cell_type": "markdown",
   "metadata": {},
   "source": [
    "### Testing predictions"
   ]
  },
  {
   "cell_type": "code",
   "execution_count": 113,
   "metadata": {},
   "outputs": [
    {
     "data": {
      "text/plain": [
       "((2113, 24), (2113,))"
      ]
     },
     "execution_count": 113,
     "metadata": {},
     "output_type": "execute_result"
    }
   ],
   "source": [
    "xtest.shape, ytest.shape"
   ]
  },
  {
   "cell_type": "code",
   "execution_count": 114,
   "metadata": {},
   "outputs": [],
   "source": [
    "tcol=x_train.columns"
   ]
  },
  {
   "cell_type": "code",
   "execution_count": 115,
   "metadata": {},
   "outputs": [],
   "source": [
    "x_test=xtest[tcol]"
   ]
  },
  {
   "cell_type": "code",
   "execution_count": 116,
   "metadata": {},
   "outputs": [
    {
     "data": {
      "text/plain": [
       "(2113, 12)"
      ]
     },
     "execution_count": 116,
     "metadata": {},
     "output_type": "execute_result"
    }
   ],
   "source": [
    "x_test.shape"
   ]
  },
  {
   "cell_type": "code",
   "execution_count": 117,
   "metadata": {},
   "outputs": [],
   "source": [
    "x_test_sm = sm.add_constant(x_test)"
   ]
  },
  {
   "cell_type": "code",
   "execution_count": 118,
   "metadata": {},
   "outputs": [
    {
     "data": {
      "text/plain": [
       "4880    3.120292e-25\n",
       "1541    1.720485e-35\n",
       "1289    1.343664e-31\n",
       "5745    5.642503e-30\n",
       "4873    3.507285e-05\n",
       "            ...     \n",
       "1285    8.350807e-04\n",
       "5092    3.507285e-05\n",
       "5837    3.965507e-02\n",
       "3597    8.596167e-13\n",
       "3625    5.034408e-35\n",
       "Length: 2113, dtype: float64"
      ]
     },
     "execution_count": 118,
     "metadata": {},
     "output_type": "execute_result"
    }
   ],
   "source": [
    "ytest_predictions = res.predict(x_test_sm)\n",
    "ytest_predictions"
   ]
  },
  {
   "cell_type": "code",
   "execution_count": 119,
   "metadata": {},
   "outputs": [
    {
     "data": {
      "text/plain": [
       "RangeIndex(start=0, stop=1, step=1)"
      ]
     },
     "execution_count": 119,
     "metadata": {},
     "output_type": "execute_result"
    }
   ],
   "source": [
    "y_pred_1 = pd.DataFrame(ytest_predictions)\n",
    "\n",
    "y_pred_1.columns"
   ]
  },
  {
   "cell_type": "code",
   "execution_count": 120,
   "metadata": {},
   "outputs": [
    {
     "data": {
      "text/plain": [
       "4880    0\n",
       "1541    0\n",
       "1289    0\n",
       "5745    0\n",
       "4873    0\n",
       "       ..\n",
       "1285    0\n",
       "5092    0\n",
       "5837    0\n",
       "3597    0\n",
       "3625    0\n",
       "Name: 0, Length: 2113, dtype: int64"
      ]
     },
     "execution_count": 120,
     "metadata": {},
     "output_type": "execute_result"
    }
   ],
   "source": [
    "predictions_final = y_pred_1[0].map(lambda x: 1 if x > 0.42 else 0)\n",
    "predictions_final"
   ]
  },
  {
   "cell_type": "code",
   "execution_count": 121,
   "metadata": {},
   "outputs": [
    {
     "data": {
      "text/plain": [
       "0.7326076668244202"
      ]
     },
     "execution_count": 121,
     "metadata": {},
     "output_type": "execute_result"
    }
   ],
   "source": [
    "metrics.accuracy_score(ytest,predictions_final)"
   ]
  },
  {
   "cell_type": "code",
   "execution_count": null,
   "metadata": {},
   "outputs": [],
   "source": []
  }
 ],
 "metadata": {
  "kernelspec": {
   "display_name": "Python 3",
   "language": "python",
   "name": "python3"
  },
  "language_info": {
   "codemirror_mode": {
    "name": "ipython",
    "version": 3
   },
   "file_extension": ".py",
   "mimetype": "text/x-python",
   "name": "python",
   "nbconvert_exporter": "python",
   "pygments_lexer": "ipython3",
   "version": "3.7.3"
  }
 },
 "nbformat": 4,
 "nbformat_minor": 5
}
